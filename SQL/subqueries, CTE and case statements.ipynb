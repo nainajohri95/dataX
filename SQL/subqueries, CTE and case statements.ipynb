{
 "cells": [
  {
   "cell_type": "code",
   "execution_count": 0,
   "metadata": {
    "application/vnd.databricks.v1+cell": {
     "cellMetadata": {
      "byteLimit": 2048000,
      "rowLimit": 10000
     },
     "inputWidgets": {},
     "nuid": "229b585c-3858-419b-a87f-46f88db0870a",
     "showTitle": false,
     "tableResultSettingsMap": {},
     "title": ""
    }
   },
   "outputs": [],
   "source": [
    "-- Find customers who placed orders above the average order amount.\n",
    "SELECT DISTINCT c.first_name, c.last_name, o.total_amount\n",
    "FROM customers c\n",
    "JOIN orders o ON c.customer_id = o.cutomer_id\n",
    "WHERE o.total_amount > (\n",
    "  SELECT AVG(total_amount) FROM orders\n",
    ");"
   ]
  },
  {
   "cell_type": "code",
   "execution_count": 0,
   "metadata": {
    "application/vnd.databricks.v1+cell": {
     "cellMetadata": {
      "byteLimit": 2048000,
      "rowLimit": 10000
     },
     "inputWidgets": {},
     "nuid": "bd592809-2613-4319-b2cc-e7cd62d1ec8b",
     "showTitle": false,
     "tableResultSettingsMap": {},
     "title": ""
    }
   },
   "outputs": [],
   "source": [
    "-- List all products that have been sold more than 5 times in total\n",
    "select product_name from order_details \n",
    "group by product_name\n",
    "having sum(quantity) > 2;\n",
    "\n",
    "-- if we want this by using subquery then in place of 2 we can write select 2, it means 2 "
   ]
  },
  {
   "cell_type": "code",
   "execution_count": 0,
   "metadata": {
    "application/vnd.databricks.v1+cell": {
     "cellMetadata": {
      "byteLimit": 2048000,
      "rowLimit": 10000
     },
     "inputWidgets": {},
     "nuid": "02ab0417-1355-4293-a28d-13811424984f",
     "showTitle": false,
     "tableResultSettingsMap": {},
     "title": ""
    }
   },
   "outputs": [],
   "source": [
    "-- List the customers and their total quantities of products ordered.\n",
    "-- We can create CTE\n",
    "with customer_orders as (\n",
    "select c.first_name, c.last_name, sum(od.quantity) as total_quantity\n",
    "from customers c\n",
    "inner join order_details od on c.customer_id = od.cutomer_id\n",
    "group by c.customer_id, c.first_name, c.last_name\n",
    ")\n",
    "select  * from customer_orders where total_quantity > 3;"
   ]
  },
  {
   "cell_type": "code",
   "execution_count": 0,
   "metadata": {
    "application/vnd.databricks.v1+cell": {
     "cellMetadata": {
      "byteLimit": 2048000,
      "rowLimit": 10000
     },
     "inputWidgets": {},
     "nuid": "8f542ea9-6347-434d-8f5c-052112304b80",
     "showTitle": false,
     "tableResultSettingsMap": {},
     "title": ""
    }
   },
   "outputs": [],
   "source": [
    "-- Find products with their total sales revenue (price * quantity).\n",
    "with product_sales as(\n",
    "  select od.product_name, sum(od.price_each*od.quantity) as total_revenue\n",
    "  from order_details od\n",
    "  group by 1\n",
    ")\n",
    "\n",
    "select * from product_sales where total_revenue > 10000;"
   ]
  },
  {
   "cell_type": "markdown",
   "metadata": {
    "application/vnd.databricks.v1+cell": {
     "cellMetadata": {},
     "inputWidgets": {},
     "nuid": "79d16c90-ca64-4007-83ee-c4a44bde9d74",
     "showTitle": false,
     "tableResultSettingsMap": {},
     "title": ""
    }
   },
   "source": [
    "## case statements (SQL ID/ ELSE)"
   ]
  },
  {
   "cell_type": "code",
   "execution_count": 0,
   "metadata": {
    "application/vnd.databricks.v1+cell": {
     "cellMetadata": {
      "byteLimit": 2048000,
      "rowLimit": 10000
     },
     "inputWidgets": {},
     "nuid": "adf39d3a-cece-4f79-96eb-168ac3c7345b",
     "showTitle": false,
     "tableResultSettingsMap": {},
     "title": ""
    }
   },
   "outputs": [],
   "source": [
    "-- Categorize each order as 'Small', 'Medium', 'Large'.\n",
    "select o.order_id, o.total_amount,\n",
    "case \n",
    "when o.total_amount < 1000 then 'small'\n",
    "when o.total_amount between 1000 and 5000 then 'medium'\n",
    "else 'large'\n",
    "end as order_size\n",
    "from orders o;"
   ]
  },
  {
   "cell_type": "code",
   "execution_count": 0,
   "metadata": {
    "application/vnd.databricks.v1+cell": {
     "cellMetadata": {
      "byteLimit": 2048000,
      "rowLimit": 10000
     },
     "inputWidgets": {},
     "nuid": "a35c22c3-d8a9-47a3-bde0-9ecacd1d4c95",
     "showTitle": false,
     "tableResultSettingsMap": {},
     "title": ""
    }
   },
   "outputs": [],
   "source": [
    "-- We can also create a CTE for categorizing each order as 'Small', 'Medium', 'Large' and later can use this CTE to find out if we want to particularly find small/ large or medium.\n",
    "\n",
    "with categorized_orders as (\n",
    "select o.order_id, o.total_amount,\n",
    "case \n",
    "when o.total_amount < 1000 then 'small'\n",
    "when o.total_amount between 1000 and 5000 then 'medium'\n",
    "else 'large'\n",
    "end as order_size\n",
    "from orders o\n",
    ")\n",
    " select * from categorized_orders where order_size = 'medium';"
   ]
  },
  {
   "cell_type": "code",
   "execution_count": 0,
   "metadata": {
    "application/vnd.databricks.v1+cell": {
     "cellMetadata": {
      "byteLimit": 2048000,
      "rowLimit": 10000
     },
     "inputWidgets": {},
     "nuid": "56f39dde-ce1f-467b-975f-d965bc2aa4c3",
     "showTitle": false,
     "tableResultSettingsMap": {},
     "title": ""
    }
   },
   "outputs": [],
   "source": [
    "-- Label cutomers as 'New' or 'Returning' based on order count.\n",
    "select c.first_name, c.last_name,\n",
    "case when count(o.order_id) = 1 then 'new'\n",
    "when count(o.order_id) > 1 then 'returning'\n",
    "end as customer_type\n",
    "from customers c\n",
    "left join orders o on c.customer_id = o.cutomer_id\n",
    "group by c.customer_id, c.first_name, c.last_name;"
   ]
  },
  {
   "cell_type": "markdown",
   "metadata": {
    "application/vnd.databricks.v1+cell": {
     "cellMetadata": {},
     "inputWidgets": {},
     "nuid": "ba764399-aac6-45ef-8f86-053289f3f2aa",
     "showTitle": false,
     "tableResultSettingsMap": {},
     "title": ""
    }
   },
   "source": [
    "## FUNCTIONS(STRING + DATE)"
   ]
  },
  {
   "cell_type": "code",
   "execution_count": 0,
   "metadata": {
    "application/vnd.databricks.v1+cell": {
     "cellMetadata": {
      "byteLimit": 2048000,
      "rowLimit": 10000
     },
     "inputWidgets": {},
     "nuid": "edb55fc6-5fe8-4d00-8aa6-21f8ba4421b5",
     "showTitle": false,
     "tableResultSettingsMap": {},
     "title": ""
    }
   },
   "outputs": [],
   "source": [
    "select upper(c.first_name) as FIRST_NAME_UPPERCASE from customers c"
   ]
  },
  {
   "cell_type": "code",
   "execution_count": 0,
   "metadata": {
    "application/vnd.databricks.v1+cell": {
     "cellMetadata": {
      "byteLimit": 2048000,
      "rowLimit": 10000
     },
     "inputWidgets": {},
     "nuid": "35b5e875-aaec-4834-93de-5784db021dbe",
     "showTitle": false,
     "tableResultSettingsMap": {},
     "title": ""
    }
   },
   "outputs": [],
   "source": [
    "select lower(c.first_name) as FIRST_NAME_LOWERCASE from customers c;"
   ]
  },
  {
   "cell_type": "code",
   "execution_count": 0,
   "metadata": {
    "application/vnd.databricks.v1+cell": {
     "cellMetadata": {
      "byteLimit": 2048000,
      "rowLimit": 10000
     },
     "inputWidgets": {},
     "nuid": "c44724dd-33c7-4c47-beca-3a62f5749dfb",
     "showTitle": false,
     "tableResultSettingsMap": {},
     "title": ""
    }
   },
   "outputs": [],
   "source": [
    "-- concatenation and upper case\n",
    "select upper(concat(c.first_name,\" \",c.last_name)) as full_name from customers c;"
   ]
  },
  {
   "cell_type": "code",
   "execution_count": 0,
   "metadata": {
    "application/vnd.databricks.v1+cell": {
     "cellMetadata": {
      "byteLimit": 2048000,
      "rowLimit": 10000
     },
     "inputWidgets": {},
     "nuid": "267bf55b-f443-491c-b705-dfbd67aefd41",
     "showTitle": false,
     "tableResultSettingsMap": {},
     "title": ""
    }
   },
   "outputs": [],
   "source": [
    "-- Extract month of each order from the order date.\n",
    "select month(o.order_date) as order_month, count(o.order_id) as total_orders\n",
    "from orders o\n",
    "group by order_month\n",
    "order by order_month;\n",
    "\n",
    "-- insted of this group by order_month and order by order_month we can also write like this group by 1 and order by 1"
   ]
  },
  {
   "cell_type": "code",
   "execution_count": 0,
   "metadata": {
    "application/vnd.databricks.v1+cell": {
     "cellMetadata": {
      "byteLimit": 2048000,
      "rowLimit": 10000
     },
     "inputWidgets": {},
     "nuid": "d770f352-cd13-4442-a3a6-eda106a47cb9",
     "showTitle": false,
     "tableResultSettingsMap": {},
     "title": ""
    }
   },
   "outputs": [],
   "source": [
    "-- list each cutomer's name + their total spend + spending category.\n",
    "-- create CTE\n",
    "with customer_spend as(\n",
    "  select c.customer_id, concat(c.first_name, ' ', c.last_name) as name,\n",
    "  sum(od.quantity * od.price_each) as total_spent\n",
    "  from customers c  \n",
    "  inner join orders o on c.customer_id = o.cutomer_id\n",
    "  inner join order_details od on o.order_id = od.order_id\n",
    "  group by c.customer_id, c.first_name, c.last_name\n",
    ")\n",
    "\n",
    "select name, total_spent,\n",
    "case \n",
    "when total_spent < 1000 then 'Bronze'\n",
    "when total_spent between 1000 and 2000 then 'Sliver'\n",
    "else 'Gold'\n",
    "end as customer_tier\n",
    "from customer_spend;"
   ]
  },
  {
   "cell_type": "code",
   "execution_count": 0,
   "metadata": {
    "application/vnd.databricks.v1+cell": {
     "cellMetadata": {
      "byteLimit": 2048000,
      "rowLimit": 10000
     },
     "inputWidgets": {},
     "nuid": "a3bae2a7-bfee-40ec-9e78-4101bdc44273",
     "showTitle": false,
     "tableResultSettingsMap": {},
     "title": ""
    }
   },
   "outputs": [],
   "source": [
    "-- Write a join query to show cutomer name, prodcut and region\n",
    "select c.customer_id, concat(c.first_name, ' ', c.last_name ) as name, od.product_name\n",
    "from customers c inner join order_details od on c.customer_id = od.cutomer_id\n",
    "group by c.customer_id, c.first_name, c.last_name, od.product_name;"
   ]
  }
 ],
 "metadata": {
  "application/vnd.databricks.v1+notebook": {
   "computePreferences": null,
   "dashboards": [],
   "environmentMetadata": {
    "base_environment": "",
    "environment_version": "2"
   },
   "inputWidgetPreferences": null,
   "language": "sql",
   "notebookMetadata": {
    "pythonIndentUnit": 4
   },
   "notebookName": "subqueries, CTE and case statements",
   "widgets": {}
  },
  "language_info": {
   "name": "sql"
  }
 },
 "nbformat": 4,
 "nbformat_minor": 0
}
