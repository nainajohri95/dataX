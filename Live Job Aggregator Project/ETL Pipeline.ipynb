{
 "cells": [
  {
   "cell_type": "code",
   "execution_count": 0,
   "metadata": {
    "application/vnd.databricks.v1+cell": {
     "cellMetadata": {
      "byteLimit": 2048000,
      "rowLimit": 10000
     },
     "inputWidgets": {},
     "nuid": "edac5861-f613-4153-90bc-451ade95e222",
     "showTitle": false,
     "tableResultSettingsMap": {},
     "title": ""
    }
   },
   "outputs": [],
   "source": [
    "API_Key = \"46a6ff92bf28e6e8f2b566dcb606b37f5a59ed940f459f5cfdf072afba42d844\""
   ]
  },
  {
   "cell_type": "markdown",
   "metadata": {
    "application/vnd.databricks.v1+cell": {
     "cellMetadata": {},
     "inputWidgets": {},
     "nuid": "45c5a4d6-13b9-47a1-9af8-95a5593165d4",
     "showTitle": false,
     "tableResultSettingsMap": {},
     "title": ""
    }
   },
   "source": [
    "## Bronze Layer: Ingesting Data to Databricks"
   ]
  },
  {
   "cell_type": "code",
   "execution_count": 0,
   "metadata": {
    "application/vnd.databricks.v1+cell": {
     "cellMetadata": {},
     "inputWidgets": {},
     "nuid": "4fa1dc15-0bfc-4365-b207-4797c6ab3ada",
     "showTitle": false,
     "tableResultSettingsMap": {},
     "title": ""
    }
   },
   "outputs": [],
   "source": [
    "import requests,json\n",
    "from pyspark.sql import SparkSession\n",
    "\n",
    "#defining the spark session\n",
    "spark = SparkSession.builder(\"JobETL_Bronze\").getOrCreate()\n",
    "\n",
    "# defining the API key\n",
    "API_KEY = \"46a6ff92bf28e6e8f2b566dcb606b37f5a59ed940f459f5cfdf072afba42d844\"\n",
    "\n",
    "roles = [\"Data Engineer\", \"Python Developer\", \"ETL Developer\", \"Spark Engineer\", \"Data Analyst\"]\n",
    "location = \"India\"\n",
    "all_jobs = []\n",
    "\n",
    "#Running a loop over all the Job Roles\n",
    "for role in roles:\n",
    "    params={\n",
    "        \"engine\": \"google_jobs\",\n",
    "        \"q\": role, #\"q\": role → \"q\" yaha par role ka naam jayega (e.g., \"Data Engineer\")\n",
    "        \"location\": location,\n",
    "        \"api_key\": API_KEY\n",
    "    }"
   ]
  }
 ],
 "metadata": {
  "application/vnd.databricks.v1+notebook": {
   "computePreferences": null,
   "dashboards": [],
   "environmentMetadata": {
    "base_environment": "",
    "environment_version": "3"
   },
   "inputWidgetPreferences": null,
   "language": "python",
   "notebookMetadata": {
    "pythonIndentUnit": 4
   },
   "notebookName": "ETL Pipeline",
   "widgets": {}
  },
  "language_info": {
   "name": "python"
  }
 },
 "nbformat": 4,
 "nbformat_minor": 0
}
