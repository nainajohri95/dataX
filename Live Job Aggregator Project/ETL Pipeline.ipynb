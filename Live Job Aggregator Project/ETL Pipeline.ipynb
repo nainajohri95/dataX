{
 "cells": [
  {
   "cell_type": "markdown",
   "metadata": {
    "application/vnd.databricks.v1+cell": {
     "cellMetadata": {
      "byteLimit": 2048000,
      "rowLimit": 10000
     },
     "inputWidgets": {},
     "nuid": "45c5a4d6-13b9-47a1-9af8-95a5593165d4",
     "showTitle": false,
     "tableResultSettingsMap": {},
     "title": ""
    }
   },
   "source": [
    "## Bronze Layer: Ingesting Data to Databricks"
   ]
  },
  {
   "cell_type": "code",
   "execution_count": 0,
   "metadata": {
    "application/vnd.databricks.v1+cell": {
     "cellMetadata": {
      "byteLimit": 2048000,
      "rowLimit": 10000
     },
     "inputWidgets": {},
     "nuid": "4fa1dc15-0bfc-4365-b207-4797c6ab3ada",
     "showTitle": false,
     "tableResultSettingsMap": {},
     "title": ""
    }
   },
   "outputs": [],
   "source": [
    "import requests,json\n",
    "from pyspark.sql import SparkSession\n",
    "\n",
    "#defining the spark session\n",
    "spark = SparkSession.builder.appName(\"JobETL_Bronze\").getOrCreate()\n",
    "\n",
    "# defining the API key\n",
    "API_KEY = \"278025380e0c67b179f77be267daf50fa06806f4911fc87dcfc3af7aa0dc79a3\"\n",
    "\n",
    "roles = [\"Data Engineer\", \"Python Developer\", \"ETL Developer\", \"Spark Engineer\", \"Data Analyst\"]\n",
    "location = \"India\"\n",
    "all_jobs = []\n",
    "\n",
    "#Running a Loop over all the Job Roles\n",
    "for role in roles:\n",
    "    params={\n",
    "        \"engine\":\"google_jobs\",\n",
    "        \"q\":role, #\"q\": role → \"q\" yaha par role ka naam jayega (e.g., \"Data Engineer\")\n",
    "        \"location\":location,\n",
    "        \"api_key\":API_KEY\n",
    "    }\n",
    "    res = requests.get(\"https://serpapi.com/search.json\", params=params)\n",
    "    print(\"✅Reading 🔴LIVE Data from Google Jobs API\")\n",
    "\n",
    "    jobs = res.json().get(\"jobs_results\", [])\n",
    "\n",
    "    # Print the whole response to see what's inside\n",
    "    # print(json.dumps(res.json(), indent=2))   \n",
    "     \n",
    "    # print(jobs)   getting API response\n",
    "\n",
    "    for job in jobs:\n",
    "        job[\"search_role\"] = role\n",
    "        all_jobs.extend(jobs)\n",
    "\n",
    "# bronze_df = spark.read.json(spark.sparkContext.parallelize([json.dumps(job) for job in all_jobs]))\n",
    "# bronze_df.write.format(\"delta\").option(\"mergeSchema\", \"true\").mode(\"append\").save(\"/mnt/lakehouse/bronze/jobs_raw\")\n",
    "\n",
    "# ✅ Convert Python list of dicts directly into Spark DF\n",
    "bronze_df = spark.createDataFrame(all_jobs)\n",
    "\n",
    "# ✅ Save to Delta (use managed table instead of DBFS path in free version)\n",
    "bronze_df.write.format(\"delta\").mode(\"overwrite\").saveAsTable(\"bronze_jobs_raw\")\n",
    "print(\"✅Data Written to Bronze Layer\")"
   ]
  },
  {
   "cell_type": "code",
   "execution_count": 0,
   "metadata": {
    "application/vnd.databricks.v1+cell": {
     "cellMetadata": {
      "byteLimit": 2048000,
      "rowLimit": 10000
     },
     "inputWidgets": {},
     "nuid": "4725d17c-f254-45a0-ade0-6b6e8f81ed0e",
     "showTitle": false,
     "tableResultSettingsMap": {},
     "title": ""
    }
   },
   "outputs": [],
   "source": [
    "# display(bronze_df)"
   ]
  },
  {
   "cell_type": "markdown",
   "metadata": {
    "application/vnd.databricks.v1+cell": {
     "cellMetadata": {
      "byteLimit": 2048000,
      "rowLimit": 10000
     },
     "inputWidgets": {},
     "nuid": "73fab389-52bd-4c9a-803c-afc5af7b0de0",
     "showTitle": false,
     "tableResultSettingsMap": {},
     "title": ""
    }
   },
   "source": [
    "## Silver Layer: Cleaning and Structuring the Data"
   ]
  },
  {
   "cell_type": "code",
   "execution_count": 0,
   "metadata": {
    "application/vnd.databricks.v1+cell": {
     "cellMetadata": {
      "byteLimit": 2048000,
      "rowLimit": 10000
     },
     "inputWidgets": {},
     "nuid": "6385ea04-9db2-4968-b1bf-b3bcf3a40747",
     "showTitle": false,
     "tableResultSettingsMap": {},
     "title": ""
    }
   },
   "outputs": [],
   "source": [
    "from pyspark.sql.functions import *\n",
    "\n",
    "spark = SparkSession.builder.appName(\"JobETL_Silver\").getOrCreate()\n",
    "\n",
    "#reading bronze layer\n",
    "print(\"✅Reading from Bronze Layer -------> Silver Layer\")\n",
    "df = spark.read.table(\"bronze_jobs_raw\")\n",
    "\n",
    "#cleaning and structuring the data\n",
    "silver_df =  df.selectExpr(\n",
    "    \"title\",\n",
    "    \"company_name\",\n",
    "    \"location\",\n",
    "    \"description\",\n",
    "    \"job_id\",\n",
    "    \"detected_extensions.posted_at as posted_at\",\n",
    "    \"search_role\"\n",
    ").dropna(subset=[\"title\", \"company_name\", \"location\"])"
   ]
  },
  {
   "cell_type": "code",
   "execution_count": 0,
   "metadata": {
    "application/vnd.databricks.v1+cell": {
     "cellMetadata": {
      "byteLimit": 2048000,
      "rowLimit": 10000
     },
     "inputWidgets": {},
     "nuid": "aef0389a-aea0-4fbd-a846-7329666fa752",
     "showTitle": false,
     "tableResultSettingsMap": {},
     "title": ""
    }
   },
   "outputs": [],
   "source": [
    "display(silver_df)"
   ]
  },
  {
   "cell_type": "code",
   "execution_count": 0,
   "metadata": {
    "application/vnd.databricks.v1+cell": {
     "cellMetadata": {
      "byteLimit": 2048000,
      "rowLimit": 10000
     },
     "inputWidgets": {},
     "nuid": "b9c51cf0-c7af-43bf-8793-e2c899f7bc05",
     "showTitle": false,
     "tableResultSettingsMap": {},
     "title": ""
    }
   },
   "outputs": [],
   "source": [
    "silver_df = silver_df.withColumn(\"company_name\", trim(upper(col(\"company_name\"))))\n",
    "silver_df = silver_df.dropna(subset=[\"posted_at\"])\n",
    "silver_df.write.format(\"delta\").option(\"mergeSchema\", \"true\").mode(\"append\").saveAsTable(\"silver_jobs\")\n",
    "print(\"✅ Data Written to Silver Layer!\")\n",
    "display(silver_df)"
   ]
  },
  {
   "cell_type": "markdown",
   "metadata": {
    "application/vnd.databricks.v1+cell": {
     "cellMetadata": {
      "byteLimit": 2048000,
      "rowLimit": 10000
     },
     "inputWidgets": {},
     "nuid": "46500dc5-ec14-47fb-8148-b3297e964311",
     "showTitle": false,
     "tableResultSettingsMap": {},
     "title": ""
    }
   },
   "source": [
    "## Golend Layer: Generate KPI Tables"
   ]
  },
  {
   "cell_type": "code",
   "execution_count": 0,
   "metadata": {
    "application/vnd.databricks.v1+cell": {
     "cellMetadata": {
      "byteLimit": 2048000,
      "rowLimit": 10000
     },
     "inputWidgets": {},
     "nuid": "bcb98061-d19a-4d47-9b99-c0772efede25",
     "showTitle": true,
     "tableResultSettingsMap": {},
     "title": "Golden Layer Method 1"
    }
   },
   "outputs": [],
   "source": [
    "#Method 1 is best because it is using pyspark ans there is distributed processesing\n",
    "from pyspark.sql.functions import *\n",
    "from pyspark.sql import SparkSession\n",
    "\n",
    "spark = SparkSession.builder.appName(\"JobETL_Gold\").getOrCreate()\n",
    "\n",
    "#reading silver layer\n",
    "print(\"✅Reading from Silver Layer -------> Golden Layer\")\n",
    "df = spark.read.table(\"silver_jobs\")\n",
    "\n",
    "#Writing golden layer to a table\n",
    "df.write.format(\"delta\").option(\"mergeSchema\", \"true\").mode(\"append\").saveAsTable(\"gold_jobs\")\n",
    "\n",
    "#KPI 1- Top Companies\n",
    "top_companies = df.groupBy(\"Company_name\").count().orderBy(col(\"count\").desc())\n",
    "# display(top_companies)\n",
    "\n",
    "# KPI2- Jobs by City\n",
    "display(df.groupBy('Location').agg(count('*').alias('job_count')).orderBy(col('job_count').desc()))"
   ]
  },
  {
   "cell_type": "code",
   "execution_count": 0,
   "metadata": {
    "application/vnd.databricks.v1+cell": {
     "cellMetadata": {
      "byteLimit": 2048000,
      "rowLimit": 10000
     },
     "inputWidgets": {},
     "nuid": "eb88c19d-9a2b-4523-ac2d-c97f9f37521b",
     "showTitle": true,
     "tableResultSettingsMap": {},
     "title": "Golden Layer Method 2"
    }
   },
   "outputs": [],
   "source": [
    "# -- There will be no distributed processing\n",
    "from pyspark.sql.functions import *\n",
    "from pyspark.sql import SparkSession\n",
    "\n",
    "spark = SparkSession.builder.appName(\"JobETL_Gold\").getOrCreate()\n",
    "\n",
    "#reading silver layer\n",
    "df = spark.read.table(\"silver_jobs\")\n",
    "df.write.mode(\"append\").saveAsTable(\"JobAggregatorTable\")\n",
    "print(\"✅Data Successfully Written to Table ---> JobAggregatorTable\")\n"
   ]
  },
  {
   "cell_type": "code",
   "execution_count": 0,
   "metadata": {
    "application/vnd.databricks.v1+cell": {
     "cellMetadata": {
      "byteLimit": 2048000,
      "implicitDf": true,
      "rowLimit": 10000
     },
     "inputWidgets": {},
     "nuid": "f1c925d0-1fb2-4aad-aca3-d5c59af5fa05",
     "showTitle": false,
     "tableResultSettingsMap": {},
     "title": ""
    }
   },
   "outputs": [
    {
     "output_type": "display_data",
     "data": {
      "text/plain": [
       "Databricks visualization. Run in Databricks to view."
      ]
     },
     "metadata": {
      "application/vnd.databricks.v1.subcommand+json": {
       "baseErrorDetails": null,
       "bindings": {},
       "collapsed": false,
       "command": "%sql WITH q AS (select * from JobAggregatorTable) SELECT `location`,COUNT(`location`) `column_2948995443` FROM q GROUP BY `location`",
       "commandTitle": "Visualization 1",
       "commandType": "auto",
       "commandVersion": 0,
       "commentThread": [],
       "commentsVisible": false,
       "contentSha256Hex": null,
       "customPlotOptions": {
        "redashChart": [
         {
          "key": "type",
          "value": "CHART"
         },
         {
          "key": "options",
          "value": {
           "alignYAxesAtZero": true,
           "coefficient": 1,
           "columnConfigurationMap": {
            "x": {
             "column": "location",
             "id": "column_2948995445"
            },
            "y": [
             {
              "column": "location",
              "id": "column_2948995443",
              "transform": "COUNT"
             }
            ]
           },
           "dateTimeFormat": "DD/MM/YYYY HH:mm",
           "direction": {
            "type": "counterclockwise"
           },
           "error_y": {
            "type": "data",
            "visible": true
           },
           "globalSeriesType": "pie",
           "isAggregationOn": true,
           "legend": {
            "traceorder": "normal"
           },
           "missingValuesAsZero": true,
           "numberFormat": "0,0.[00000]",
           "percentFormat": "0[.]00%",
           "series": {
            "error_y": {
             "type": "data",
             "visible": true
            },
            "stacking": null
           },
           "seriesOptions": {
            "column_2948995443": {
             "type": "pie",
             "yAxis": 0
            }
           },
           "showDataLabels": true,
           "sizemode": "diameter",
           "sortX": true,
           "sortY": true,
           "swappedAxes": false,
           "textFormat": "",
           "useAggregationsUi": true,
           "valuesOptions": {},
           "version": 2,
           "xAxis": {
            "labels": {
             "enabled": true
            },
            "type": "-"
           },
           "yAxis": [
            {
             "type": "-"
            },
            {
             "opposite": true,
             "type": "-"
            }
           ]
          }
         }
        ]
       },
       "datasetPreviewNameToCmdIdMap": {},
       "diffDeletes": [],
       "diffInserts": [],
       "displayType": "redashChart",
       "error": null,
       "errorDetails": null,
       "errorSummary": null,
       "errorTraceType": null,
       "finishTime": 0,
       "globalVars": {},
       "guid": "",
       "height": "auto",
       "hideCommandCode": false,
       "hideCommandResult": false,
       "iPythonMetadata": null,
       "inputWidgets": {},
       "isLockedInExamMode": false,
       "latestUser": "a user",
       "latestUserId": null,
       "listResultMetadata": null,
       "metadata": {},
       "nuid": "40c61869-0eb9-41a1-bf9f-7cd0c1b25a26",
       "origId": 0,
       "parentHierarchy": [],
       "pivotAggregation": null,
       "pivotColumns": null,
       "position": 12.0,
       "resultDbfsErrorMessage": null,
       "resultDbfsStatus": "INLINED_IN_TREE",
       "results": null,
       "showCommandTitle": false,
       "startTime": 0,
       "state": "input",
       "streamStates": {},
       "subcommandOptions": {
        "queryPlan": {
         "groups": [
          {
           "column": "location",
           "type": "column"
          }
         ],
         "selects": [
          {
           "column": "location",
           "type": "column"
          },
          {
           "alias": "column_2948995443",
           "args": [
            {
             "column": "location",
             "type": "column"
            }
           ],
           "function": "COUNT",
           "type": "function"
          }
         ]
        }
       },
       "submitTime": 0,
       "subtype": "tableResultSubCmd.visualization",
       "tableResultIndex": 0,
       "tableResultSettingsMap": {},
       "useConsistentColors": false,
       "version": "CommandV1",
       "width": "auto",
       "workflows": null,
       "xColumns": null,
       "yColumns": null
      }
     },
     "output_type": "display_data"
    }
   ],
   "source": [
    "%sql\n",
    "select * from JobAggregatorTable"
   ]
  },
  {
   "cell_type": "code",
   "execution_count": 0,
   "metadata": {
    "application/vnd.databricks.v1+cell": {
     "cellMetadata": {
      "byteLimit": 2048000,
      "rowLimit": 10000
     },
     "inputWidgets": {},
     "nuid": "51c2c657-ac29-4bd1-86bc-01c5e9c3a445",
     "showTitle": false,
     "tableResultSettingsMap": {},
     "title": ""
    }
   },
   "outputs": [],
   "source": [
    "print(\"😍Congratulations!!!!! Full ETL Job Aggregator Project is Completed and LIVE!!!!\")"
   ]
  },
  {
   "cell_type": "code",
   "execution_count": 0,
   "metadata": {
    "application/vnd.databricks.v1+cell": {
     "cellMetadata": {
      "byteLimit": 2048000,
      "implicitDf": true,
      "rowLimit": 10000
     },
     "inputWidgets": {},
     "nuid": "820303e1-385a-4073-9776-9421b33879ea",
     "showTitle": false,
     "tableResultSettingsMap": {},
     "title": ""
    }
   },
   "outputs": [],
   "source": [
    "%sql\n",
    "describe history JobAggregatorTable"
   ]
  },
  {
   "cell_type": "code",
   "execution_count": 0,
   "metadata": {
    "application/vnd.databricks.v1+cell": {
     "cellMetadata": {
      "byteLimit": 2048000,
      "implicitDf": true,
      "rowLimit": 10000
     },
     "inputWidgets": {},
     "nuid": "8111afc5-c56b-4079-9f78-80eeac1722f1",
     "showTitle": false,
     "tableResultSettingsMap": {},
     "title": ""
    }
   },
   "outputs": [],
   "source": [
    "%sql\n",
    "select * from JobAggregatorTable"
   ]
  },
  {
   "cell_type": "markdown",
   "metadata": {
    "application/vnd.databricks.v1+cell": {
     "cellMetadata": {
      "byteLimit": 2048000,
      "rowLimit": 10000
     },
     "inputWidgets": {},
     "nuid": "6b91fa88-c6af-40e4-8874-083f26ff8695",
     "showTitle": false,
     "tableResultSettingsMap": {},
     "title": ""
    }
   },
   "source": [
    "# Data Analytics Part :- Visualisation Business Scenario"
   ]
  },
  {
   "cell_type": "code",
   "execution_count": 0,
   "metadata": {
    "application/vnd.databricks.v1+cell": {
     "cellMetadata": {
      "byteLimit": 2048000,
      "rowLimit": 10000
     },
     "inputWidgets": {},
     "nuid": "a21a932d-c028-4677-9da8-c3802beedb53",
     "showTitle": false,
     "tableResultSettingsMap": {},
     "title": ""
    }
   },
   "outputs": [],
   "source": [
    "import matplotlib.pyplot as plt"
   ]
  },
  {
   "cell_type": "code",
   "execution_count": 0,
   "metadata": {
    "application/vnd.databricks.v1+cell": {
     "cellMetadata": {
      "byteLimit": 2048000,
      "rowLimit": 10000
     },
     "inputWidgets": {},
     "nuid": "b7d6be11-20e0-4626-9d8e-332cebcb0998",
     "showTitle": false,
     "tableResultSettingsMap": {},
     "title": ""
    }
   },
   "outputs": [],
   "source": [
    "spark = SparkSession.builder.appName(\"VisualsFromGold\").getOrCreate()"
   ]
  },
  {
   "cell_type": "code",
   "execution_count": 0,
   "metadata": {
    "application/vnd.databricks.v1+cell": {
     "cellMetadata": {
      "byteLimit": 2048000,
      "rowLimit": 10000
     },
     "inputWidgets": {},
     "nuid": "36d15300-d02d-451a-ba9a-3ad781b21fa7",
     "showTitle": false,
     "tableResultSettingsMap": {},
     "title": ""
    }
   },
   "outputs": [],
   "source": [
    "#Load Gold Layer: Top Companies\n",
    "df_companies = spark.read.table(\"gold_jobs\")\n",
    "df_companies = df_companies.dropna(subset=[\"posted_at\"])\n",
    "display(df_companies)"
   ]
  },
  {
   "cell_type": "code",
   "execution_count": 0,
   "metadata": {
    "application/vnd.databricks.v1+cell": {
     "cellMetadata": {
      "byteLimit": 2048000,
      "rowLimit": 10000
     },
     "inputWidgets": {},
     "nuid": "73a24c20-d38a-47e8-aa5f-9cdfb22ee6d2",
     "showTitle": false,
     "tableResultSettingsMap": {},
     "title": ""
    }
   },
   "outputs": [],
   "source": [
    "#Convert to Pandas for Plotting\n",
    "pdf = df_companies.orderBy(\"posted_at\", ascending=True).limit(10).toPandas()\n",
    "display(pdf)"
   ]
  },
  {
   "cell_type": "code",
   "execution_count": 0,
   "metadata": {
    "application/vnd.databricks.v1+cell": {
     "cellMetadata": {
      "byteLimit": 2048000,
      "rowLimit": 10000
     },
     "inputWidgets": {},
     "nuid": "5224534e-5a5e-4904-9fa4-c59f7effa671",
     "showTitle": false,
     "tableResultSettingsMap": {},
     "title": ""
    }
   },
   "outputs": [],
   "source": [
    "# Creating a plot\n",
    "\n",
    "plt.figure(figsize=(10,5))\n",
    "plt.barh(pdf['company_name'][::-1],pdf['title'], color='skyblue')\n",
    "plt.xlabel('Number of jobs')\n",
    "plt.ylabel('Top Companies Hiring')\n",
    "plt.grid(True, axis='x', linestyle='--', alpha=0.5)\n",
    "plt.tight_layout()\n",
    "plt.show()"
   ]
  },
  {
   "cell_type": "code",
   "execution_count": 0,
   "metadata": {
    "application/vnd.databricks.v1+cell": {
     "cellMetadata": {
      "byteLimit": 2048000,
      "rowLimit": 10000
     },
     "inputWidgets": {},
     "nuid": "f32a6e46-ec06-436c-8ddf-c08d5e87e356",
     "showTitle": false,
     "tableResultSettingsMap": {},
     "title": ""
    }
   },
   "outputs": [],
   "source": [
    "#Job demad by City Plot\n",
    "df_cities = spark.read.table(\"gold_jobs\")\n",
    "df_cities = df_cities.dropna(subset=[\"posted_at\"])\n",
    "\n",
    "pdf_city = (\n",
    "    df_cities.orderBy(\"posted_at\",ascending=False).toPandas())\n",
    "\n",
    "#Plot\n",
    "plt.figure(figsize=(10,6))\n",
    "plt.barh(pdf_city['location'][::-1], pdf_city['title'][::-1], color='lightgreen')\n",
    "plt.xlabel(\"Job Posting\")\n",
    "plt.title(\"Job Demand by City\")\n",
    "plt.grid(True, axis='x', linestyle='--', alpha=0.5)\n",
    "plt.tight_layout()\n",
    "plt.show()"
   ]
  }
 ],
 "metadata": {
  "application/vnd.databricks.v1+notebook": {
   "computePreferences": null,
   "dashboards": [],
   "environmentMetadata": {
    "base_environment": "",
    "environment_version": "3"
   },
   "inputWidgetPreferences": null,
   "language": "python",
   "notebookMetadata": {
    "mostRecentlyExecutedCommandWithImplicitDF": {
     "commandId": 8165279179493322,
     "dataframes": [
      "_sqldf"
     ]
    },
    "pythonIndentUnit": 4
   },
   "notebookName": "ETL Pipeline",
   "widgets": {}
  },
  "language_info": {
   "name": "python"
  }
 },
 "nbformat": 4,
 "nbformat_minor": 0
}
