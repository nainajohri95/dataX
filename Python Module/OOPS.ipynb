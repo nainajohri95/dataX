{
 "cells": [
  {
   "cell_type": "markdown",
   "metadata": {
    "application/vnd.databricks.v1+cell": {
     "cellMetadata": {},
     "inputWidgets": {},
     "nuid": "d697a8cd-1726-4545-8d80-07bb021a22be",
     "showTitle": false,
     "tableResultSettingsMap": {},
     "title": ""
    }
   },
   "source": [
    "##Class & Object"
   ]
  },
  {
   "cell_type": "code",
   "execution_count": 0,
   "metadata": {
    "application/vnd.databricks.v1+cell": {
     "cellMetadata": {
      "byteLimit": 2048000,
      "rowLimit": 10000
     },
     "inputWidgets": {},
     "nuid": "0edb60ad-ca3a-45c1-b038-b6188ce89d9c",
     "showTitle": false,
     "tableResultSettingsMap": {},
     "title": ""
    }
   },
   "outputs": [],
   "source": [
    "class Customer:\n",
    "    def __init__(self,name):\n",
    "        self.name = name\n",
    "\n",
    "c1 = Customer('Naina')\n",
    "print(c1.name)"
   ]
  },
  {
   "cell_type": "code",
   "execution_count": 0,
   "metadata": {
    "application/vnd.databricks.v1+cell": {
     "cellMetadata": {
      "byteLimit": 2048000,
      "rowLimit": 10000
     },
     "inputWidgets": {},
     "nuid": "9c8dd107-036b-4a60-a925-f2685d544509",
     "showTitle": false,
     "tableResultSettingsMap": {},
     "title": ""
    }
   },
   "outputs": [],
   "source": [
    "# Build a PipelineStep Class\n",
    "class PipelineStep:\n",
    "    def __init__(self, step_name):\n",
    "        self.step_name = step_name  \n",
    "\n",
    "    def execute(self):\n",
    "        print(f\"Executing step: {self.step_name}\") \n",
    "\n",
    "# Creating objects\n",
    "ingest = PipelineStep(\"Ingestion\")\n",
    "transform = PipelineStep(\"Transformation\")\n",
    "\n",
    "# Executing steps\n",
    "ingest.execute()\n",
    "transform.execute()"
   ]
  },
  {
   "cell_type": "markdown",
   "metadata": {
    "application/vnd.databricks.v1+cell": {
     "cellMetadata": {},
     "inputWidgets": {},
     "nuid": "dd32ec37-1814-4750-9eef-861fc04bddf0",
     "showTitle": false,
     "tableResultSettingsMap": {},
     "title": ""
    }
   },
   "source": [
    "##Encapsulation"
   ]
  },
  {
   "cell_type": "code",
   "execution_count": 0,
   "metadata": {
    "application/vnd.databricks.v1+cell": {
     "cellMetadata": {
      "byteLimit": 2048000,
      "rowLimit": 10000
     },
     "inputWidgets": {},
     "nuid": "dce47935-8413-4044-8897-d2e7cf4e3c8b",
     "showTitle": false,
     "tableResultSettingsMap": {},
     "title": ""
    }
   },
   "outputs": [],
   "source": [
    "class DatabaseConnector:\n",
    "    def __init__(self):\n",
    "        self._credentials = \"user:pass@123\"  #protected variable credential\n",
    "\n",
    "    def connect(self):\n",
    "        print(\"Connecting using credentials\")\n",
    "        return \"DB connection established\"\n",
    "db = DatabaseConnector()\n",
    "print(db.connect())"
   ]
  },
  {
   "cell_type": "markdown",
   "metadata": {
    "application/vnd.databricks.v1+cell": {
     "cellMetadata": {},
     "inputWidgets": {},
     "nuid": "67d314dd-91fd-4085-aa24-1949a6a7fbb1",
     "showTitle": false,
     "tableResultSettingsMap": {},
     "title": ""
    }
   },
   "source": [
    "## Inheritance"
   ]
  },
  {
   "cell_type": "code",
   "execution_count": 0,
   "metadata": {
    "application/vnd.databricks.v1+cell": {
     "cellMetadata": {
      "byteLimit": 2048000,
      "rowLimit": 10000
     },
     "inputWidgets": {},
     "nuid": "914f77ec-83f1-4389-bea1-ca56ce052789",
     "showTitle": false,
     "tableResultSettingsMap": {},
     "title": ""
    }
   },
   "outputs": [],
   "source": [
    "class Reader():\n",
    "    def read(self):\n",
    "        return \"Reading from base reader\"\n",
    "    \n",
    "class CSVReader(Reader):\n",
    "    def read(self):\n",
    "        return \"Reading from CSV\"\n",
    "    \n",
    "class APIReader(Reader):\n",
    "    def read(self):\n",
    "        return \"Fetching from API\"\n",
    "    \n",
    "print(CSVReader().read())\n",
    "print(APIReader().read())"
   ]
  },
  {
   "cell_type": "markdown",
   "metadata": {
    "application/vnd.databricks.v1+cell": {
     "cellMetadata": {},
     "inputWidgets": {},
     "nuid": "f78fea28-8355-4c0e-aeb9-407add2db2c3",
     "showTitle": false,
     "tableResultSettingsMap": {},
     "title": ""
    }
   },
   "source": [
    "## Polymorphism- Same Interface siffrent behavior"
   ]
  },
  {
   "cell_type": "code",
   "execution_count": 0,
   "metadata": {
    "application/vnd.databricks.v1+cell": {
     "cellMetadata": {
      "byteLimit": 2048000,
      "rowLimit": 10000
     },
     "inputWidgets": {},
     "nuid": "bf95572b-b8bc-405a-9c29-047c8f201bcb",
     "showTitle": false,
     "tableResultSettingsMap": {},
     "title": ""
    }
   },
   "outputs": [],
   "source": [
    "def run_reader(reader):\n",
    "    print(reader.read())\n",
    "\n",
    "run_reader(CSVReader())\n",
    "run_reader(APIReader())"
   ]
  },
  {
   "cell_type": "markdown",
   "metadata": {
    "application/vnd.databricks.v1+cell": {
     "cellMetadata": {},
     "inputWidgets": {},
     "nuid": "6ab72358-e87e-47b7-992f-847197833cf9",
     "showTitle": false,
     "tableResultSettingsMap": {},
     "title": ""
    }
   },
   "source": [
    "## Abstraction"
   ]
  },
  {
   "cell_type": "code",
   "execution_count": 0,
   "metadata": {
    "application/vnd.databricks.v1+cell": {
     "cellMetadata": {
      "byteLimit": 2048000,
      "rowLimit": 10000
     },
     "inputWidgets": {},
     "nuid": "54ec1fe8-ec30-4b54-8bde-89beca760005",
     "showTitle": false,
     "tableResultSettingsMap": {},
     "title": ""
    }
   },
   "outputs": [],
   "source": [
    "from abc import ABC, abstractmethod\n",
    "\n",
    "class Ingestor(ABC):\n",
    "    @abstractmethod\n",
    "    def read(self):\n",
    "        pass\n",
    "\n",
    "class CSVIngestor(Ingestor):\n",
    "    def read():\n",
    "        return \"Reading CSV\"\n",
    "    \n",
    "class APIIngestor(Ingestor):\n",
    "    def read(self):\n",
    "        return \"Calling API\"\n",
    "    \n",
    "def run(ingestor):\n",
    "    print(ingestor.read())\n",
    "\n",
    "run(CSVIngestor())\n",
    "run(APIIngestor())"
   ]
  },
  {
   "cell_type": "markdown",
   "metadata": {
    "application/vnd.databricks.v1+cell": {
     "cellMetadata": {},
     "inputWidgets": {},
     "nuid": "a57d9e13-ada1-455b-9ecb-99fb074e7cb0",
     "showTitle": false,
     "tableResultSettingsMap": {},
     "title": ""
    }
   },
   "source": [
    "## Real Data Pipeline: OOP Version"
   ]
  }
 ],
 "metadata": {
  "application/vnd.databricks.v1+notebook": {
   "computePreferences": null,
   "dashboards": [],
   "environmentMetadata": {
    "base_environment": "",
    "environment_version": "2"
   },
   "inputWidgetPreferences": null,
   "language": "python",
   "notebookMetadata": {
    "pythonIndentUnit": 4
   },
   "notebookName": "OOPS",
   "widgets": {}
  },
  "language_info": {
   "name": "python"
  }
 },
 "nbformat": 4,
 "nbformat_minor": 0
}
