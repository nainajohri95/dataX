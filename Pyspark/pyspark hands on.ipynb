{
 "cells": [
  {
   "cell_type": "code",
   "execution_count": 0,
   "metadata": {
    "application/vnd.databricks.v1+cell": {
     "cellMetadata": {
      "byteLimit": 2048000,
      "rowLimit": 10000
     },
     "inputWidgets": {},
     "nuid": "61282e58-86f5-446e-a0a5-3b05d81841d9",
     "showTitle": false,
     "tableResultSettingsMap": {},
     "title": ""
    }
   },
   "outputs": [],
   "source": [
    "from pyspark.sql import SparkSession\n",
    "spark = SparkSession.builder.appName(\"DataXBootcamp\").getOrCreate()"
   ]
  },
  {
   "cell_type": "code",
   "execution_count": 0,
   "metadata": {
    "application/vnd.databricks.v1+cell": {
     "cellMetadata": {
      "byteLimit": 2048000,
      "rowLimit": 10000
     },
     "inputWidgets": {},
     "nuid": "22b1ac0b-dd7d-40bf-b79c-eb3d6205d09e",
     "showTitle": false,
     "tableResultSettingsMap": {},
     "title": ""
    }
   },
   "outputs": [],
   "source": [
    "#create realistic DataFrame of Employee\n",
    "#This is tuple (\"Alice\",\"IT\", 50000) having diffrent kind of data\n",
    "data={\n",
    "    (\"Alice\",\"IT\", 50000),\n",
    "    (\"Naina\",\"Data Engineer\", 90000),\n",
    "    (\"Ria\",\"HR\", 53000),\n",
    "    (\"Shyam\",\"Recruiter\", 65000),\n",
    "    (\"Priya\",\"HR\", 30000),\n",
    "    (\"Bob\",\"IT\", 85000),\n",
    "    (\"Stuti\",\"Finace\", 51000),\n",
    "    (\"Paul\",\"HR\", 65000),\n",
    "    (\"Sid\",\"Finace\", 40000),\n",
    "    (\"Maddy\",\"Recruiter\", 50000),\n",
    "}\n",
    "\n",
    "column=[\"Name\", \"Department\", \"Salary\"]\n",
    "df=spark.createDataFrame(data, column)\n",
    "display(df)"
   ]
  },
  {
   "cell_type": "code",
   "execution_count": 0,
   "metadata": {
    "application/vnd.databricks.v1+cell": {
     "cellMetadata": {
      "byteLimit": 2048000,
      "rowLimit": 10000
     },
     "inputWidgets": {},
     "nuid": "94ee6aa4-8a70-4dae-ac85-4fd8d804dbd4",
     "showTitle": false,
     "tableResultSettingsMap": {},
     "title": ""
    }
   },
   "outputs": [],
   "source": [
    "#Select and filter on the DataFrame created\n",
    "display(df.select(\"Name\"))"
   ]
  },
  {
   "cell_type": "code",
   "execution_count": 0,
   "metadata": {
    "application/vnd.databricks.v1+cell": {
     "cellMetadata": {
      "byteLimit": 2048000,
      "rowLimit": 10000
     },
     "inputWidgets": {},
     "nuid": "848c8ac1-9103-45fc-a346-4816f51253cb",
     "showTitle": false,
     "tableResultSettingsMap": {
      "0": {
       "dataGridStateBlob": "{\"version\":1,\"tableState\":{\"columnPinning\":{\"left\":[\"#row_number#\"],\"right\":[]},\"columnSizing\":{},\"columnVisibility\":{}},\"settings\":{\"columns\":{}},\"syncTimestamp\":1755624903904}",
       "filterBlob": null,
       "queryPlanFiltersBlob": null,
       "tableResultIndex": 0
      }
     },
     "title": ""
    }
   },
   "outputs": [],
   "source": [
    "display(df.select(\"Salary\", \"Name\"))"
   ]
  },
  {
   "cell_type": "code",
   "execution_count": 0,
   "metadata": {
    "application/vnd.databricks.v1+cell": {
     "cellMetadata": {
      "byteLimit": 2048000,
      "rowLimit": 10000
     },
     "inputWidgets": {},
     "nuid": "22f23232-19cd-465d-9ac6-b8c13965d353",
     "showTitle": false,
     "tableResultSettingsMap": {},
     "title": ""
    }
   },
   "outputs": [],
   "source": [
    "#filter rows based on salary\n",
    "display(df.filter(df.Salary>50000))"
   ]
  },
  {
   "cell_type": "code",
   "execution_count": 0,
   "metadata": {
    "application/vnd.databricks.v1+cell": {
     "cellMetadata": {
      "byteLimit": 2048000,
      "rowLimit": 10000
     },
     "inputWidgets": {},
     "nuid": "b2fa0e8f-0abd-46e9-936b-92cb4a49fc87",
     "showTitle": false,
     "tableResultSettingsMap": {},
     "title": ""
    }
   },
   "outputs": [],
   "source": [
    "# we can do something like this df['Salary] insted of df.Salary\n",
    "display(df.filter(df[\"Salary\"]>50000))"
   ]
  },
  {
   "cell_type": "code",
   "execution_count": 0,
   "metadata": {
    "application/vnd.databricks.v1+cell": {
     "cellMetadata": {
      "byteLimit": 2048000,
      "rowLimit": 10000
     },
     "inputWidgets": {},
     "nuid": "4f002861-38e1-4f62-b80f-bcb744b8df05",
     "showTitle": false,
     "tableResultSettingsMap": {},
     "title": ""
    }
   },
   "outputs": [],
   "source": [
    "#Apply multiple filters\n",
    "display(df.filter((df['Department']=='IT') & (df['Salary']>50000)))"
   ]
  },
  {
   "cell_type": "code",
   "execution_count": 0,
   "metadata": {
    "application/vnd.databricks.v1+cell": {
     "cellMetadata": {
      "byteLimit": 2048000,
      "rowLimit": 10000
     },
     "inputWidgets": {},
     "nuid": "4937ce19-864a-4936-8ce6-efa2c4d7cea9",
     "showTitle": false,
     "tableResultSettingsMap": {},
     "title": ""
    }
   },
   "outputs": [],
   "source": [
    "#Create a derived column\n",
    "from pyspark.sql.functions import col\n",
    "\n",
    "#Add 10% bouns to everyone\n",
    "df=df.withColumn(\"Bonus\",col(\"Salary\")*0.1)\n",
    "display(df)"
   ]
  },
  {
   "cell_type": "code",
   "execution_count": 0,
   "metadata": {
    "application/vnd.databricks.v1+cell": {
     "cellMetadata": {
      "byteLimit": 2048000,
      "rowLimit": 10000
     },
     "inputWidgets": {},
     "nuid": "97a9dd72-dfa4-433e-9452-4564690f7617",
     "showTitle": false,
     "tableResultSettingsMap": {},
     "title": ""
    }
   },
   "outputs": [],
   "source": [
    "#Group by and Aggregation\n",
    "# average of salary by department\n",
    "df.groupBy(\"Department\").avg(\"Salary\").show()"
   ]
  },
  {
   "cell_type": "code",
   "execution_count": 0,
   "metadata": {
    "application/vnd.databricks.v1+cell": {
     "cellMetadata": {
      "byteLimit": 2048000,
      "rowLimit": 10000
     },
     "inputWidgets": {},
     "nuid": "98713a21-0093-492b-9ab4-26ef35406f5e",
     "showTitle": false,
     "tableResultSettingsMap": {},
     "title": ""
    }
   },
   "outputs": [],
   "source": [
    "# Apply Multiple aggregation\n",
    "from pyspark.sql.functions import avg, max, min\n",
    "\n",
    "display(df.groupBy(\"Department\").agg(\n",
    "    avg(\"Salary\").alias(\"Avg_Salary\"),\n",
    "    max(\"Salary\").alias(\"Max_Salary\"),\n",
    "    min(\"Salary\").alias(\"Min_Salary\")\n",
    "))"
   ]
  },
  {
   "cell_type": "code",
   "execution_count": 0,
   "metadata": {
    "application/vnd.databricks.v1+cell": {
     "cellMetadata": {
      "byteLimit": 2048000,
      "rowLimit": 10000
     },
     "inputWidgets": {},
     "nuid": "67146949-80e6-4a69-ac71-1e27d22ce8c1",
     "showTitle": false,
     "tableResultSettingsMap": {},
     "title": ""
    }
   },
   "outputs": [],
   "source": [
    "# Creating another DataFrame\n",
    "dept_data = [(\"IT\",101), (\"HR\",102), (\"Fiance\", 103)]\n",
    "dept_columns = [\"Department\", \"Dept_code\"]\n",
    "df_dept = spark.createDataFrame(dept_data, dept_columns)\n",
    "\n",
    "display(df_dept)"
   ]
  },
  {
   "cell_type": "code",
   "execution_count": 0,
   "metadata": {
    "application/vnd.databricks.v1+cell": {
     "cellMetadata": {
      "byteLimit": 2048000,
      "rowLimit": 10000
     },
     "inputWidgets": {},
     "nuid": "bf655736-4019-4c59-92ad-8dd4b26cc095",
     "showTitle": false,
     "tableResultSettingsMap": {},
     "title": ""
    }
   },
   "outputs": [],
   "source": [
    "# Combine two data frame (join operation)\n",
    "joined_df = df.join(df_dept, on=\"Department\", how=\"inner\")\n",
    "display(joined_df)"
   ]
  },
  {
   "cell_type": "code",
   "execution_count": 0,
   "metadata": {
    "application/vnd.databricks.v1+cell": {
     "cellMetadata": {
      "byteLimit": 2048000,
      "rowLimit": 10000
     },
     "inputWidgets": {},
     "nuid": "642f84f1-3dd3-4d24-9db8-9db7de4079d7",
     "showTitle": false,
     "tableResultSettingsMap": {},
     "title": ""
    }
   },
   "outputs": [],
   "source": [
    "# Transformations v/s Action\n",
    "\n",
    "#Transformation\n",
    "filtered = df.filter(df[\"Salary\"]>50000)\n",
    "\n",
    "#Action\n",
    "filtered.show()"
   ]
  },
  {
   "cell_type": "markdown",
   "metadata": {
    "application/vnd.databricks.v1+cell": {
     "cellMetadata": {},
     "inputWidgets": {},
     "nuid": "5d4447e5-258c-4117-83ef-5c3412151b1f",
     "showTitle": false,
     "tableResultSettingsMap": {},
     "title": ""
    }
   },
   "source": [
    "## Assignment "
   ]
  },
  {
   "cell_type": "code",
   "execution_count": 0,
   "metadata": {
    "application/vnd.databricks.v1+cell": {
     "cellMetadata": {
      "byteLimit": 2048000,
      "rowLimit": 10000
     },
     "inputWidgets": {},
     "nuid": "92a5b1c0-5a4e-4933-9e00-25c758bf2382",
     "showTitle": false,
     "tableResultSettingsMap": {},
     "title": ""
    }
   },
   "outputs": [],
   "source": [
    "df_data = [(\"Naina\", \"IT\", 90000, \"Noida\"),(\"John\", \"HR\", 50000, \"Gurugram\"),\n",
    "(\"Priya\", \"Finace\", 60000, \"Pune\"),\n",
    "(\"Riya\", \"Finace\", 80000, \"Pune\"),\n",
    "(\"Rohit\", \"IT\", 65000, \"Banglore\"),\n",
    "(\"Alex\", \"HR\", 85000, \"Gurugram\"),\n",
    "(\"Krishna\", \"Finace\", 90000, \"Jaipur\"),\n",
    "(\"Ram\", \"IT\", 30000, \"Banglore\"),\n",
    "(\"Shyam\", \"HR\", 45000, \"Noida\"),]\n",
    "\n",
    "df_column = [\"Name\", \"Department\", \"Salary\", \"Location\"]\n",
    "\n",
    "new_df = spark.createDataFrame(df_data, df_column)\n",
    "display(new_df)"
   ]
  },
  {
   "cell_type": "code",
   "execution_count": 0,
   "metadata": {
    "application/vnd.databricks.v1+cell": {
     "cellMetadata": {
      "byteLimit": 2048000,
      "rowLimit": 10000
     },
     "inputWidgets": {},
     "nuid": "49956c54-93c3-452b-aa2e-ff853e928fd1",
     "showTitle": false,
     "tableResultSettingsMap": {},
     "title": ""
    }
   },
   "outputs": [],
   "source": [
    "#Filter IT employees with salary > 60k\n",
    "display(new_df.filter((col(\"Department\") == \"IT\") & (col(\"Salary\") > 60000)))"
   ]
  },
  {
   "cell_type": "code",
   "execution_count": 0,
   "metadata": {
    "application/vnd.databricks.v1+cell": {
     "cellMetadata": {
      "byteLimit": 2048000,
      "rowLimit": 10000
     },
     "inputWidgets": {},
     "nuid": "2f6d794b-1fe4-49b6-a102-ba36fd2b375d",
     "showTitle": false,
     "tableResultSettingsMap": {},
     "title": ""
    }
   },
   "outputs": [],
   "source": [
    "#Add column \"Hike_Amount\" as 15% of salary\n",
    "df_task = new_df.withColumn(\"Hike_Amount\", col(\"Salary\")*0.15)\n",
    "display(df_task)  # or df_task.show()"
   ]
  },
  {
   "cell_type": "code",
   "execution_count": 0,
   "metadata": {
    "application/vnd.databricks.v1+cell": {
     "cellMetadata": {
      "byteLimit": 2048000,
      "rowLimit": 10000
     },
     "inputWidgets": {},
     "nuid": "99fc5a85-bbc7-4491-8b5e-3c45ceee8bfd",
     "showTitle": false,
     "tableResultSettingsMap": {},
     "title": ""
    }
   },
   "outputs": [],
   "source": [
    "#Group By department and show average salary\n",
    "display(new_df.groupBy(\"Department\").avg(\"Salary\"))"
   ]
  }
 ],
 "metadata": {
  "application/vnd.databricks.v1+notebook": {
   "computePreferences": null,
   "dashboards": [],
   "environmentMetadata": {
    "base_environment": "",
    "environment_version": "2"
   },
   "inputWidgetPreferences": null,
   "language": "python",
   "notebookMetadata": {
    "pythonIndentUnit": 4
   },
   "notebookName": "pyspark hands on",
   "widgets": {}
  },
  "language_info": {
   "name": "python"
  }
 },
 "nbformat": 4,
 "nbformat_minor": 0
}
