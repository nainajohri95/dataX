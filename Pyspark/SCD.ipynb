{
 "cells": [
  {
   "cell_type": "code",
   "execution_count": 0,
   "metadata": {
    "application/vnd.databricks.v1+cell": {
     "cellMetadata": {
      "byteLimit": 2048000,
      "rowLimit": 10000
     },
     "inputWidgets": {},
     "nuid": "e8794953-7748-49e3-b98e-ef41da735aec",
     "showTitle": false,
     "tableResultSettingsMap": {},
     "title": ""
    }
   },
   "outputs": [],
   "source": [
    "old_data = [\n",
    "    (101, 'Naina', 'Noida'),\n",
    "    (102, 'Anu', 'Pune')\n",
    "]\n",
    "columns = [\"Customer_id\", \"Name\", \"City\"]\n",
    "old_df = spark.createDataFrame(old_data, columns)\n",
    "display(old_df)\n"
   ]
  },
  {
   "cell_type": "code",
   "execution_count": 0,
   "metadata": {
    "application/vnd.databricks.v1+cell": {
     "cellMetadata": {
      "byteLimit": 2048000,
      "rowLimit": 10000
     },
     "inputWidgets": {},
     "nuid": "d460ccc1-1147-4a7b-a3d9-86c9aa459121",
     "showTitle": false,
     "tableResultSettingsMap": {},
     "title": ""
    }
   },
   "outputs": [],
   "source": [
    "new_data = [\n",
    "    (101, 'Naina', 'Noida'),\n",
    "    (102, 'Anu', 'Noida'),\n",
    "    (103, 'Akshay', 'Noida')\n",
    "]\n",
    "\n",
    "new_df = spark.createDataFrame(new_data, columns)\n",
    "display(new_df)"
   ]
  },
  {
   "cell_type": "markdown",
   "metadata": {
    "application/vnd.databricks.v1+cell": {
     "cellMetadata": {
      "byteLimit": 2048000,
      "rowLimit": 10000
     },
     "inputWidgets": {},
     "nuid": "c27a7859-8d9c-4b03-8f6c-aa3954a24c65",
     "showTitle": false,
     "tableResultSettingsMap": {},
     "title": ""
    }
   },
   "source": [
    "## SCD Type-1: oVerwrite(No History)"
   ]
  },
  {
   "cell_type": "code",
   "execution_count": 0,
   "metadata": {
    "application/vnd.databricks.v1+cell": {
     "cellMetadata": {
      "byteLimit": 2048000,
      "rowLimit": 10000
     },
     "inputWidgets": {},
     "nuid": "59516dda-619f-46b2-a0ce-cc57592db3ca",
     "showTitle": false,
     "tableResultSettingsMap": {},
     "title": ""
    }
   },
   "outputs": [],
   "source": [
    "#Save the old data as Delta Table\n",
    "from delta.tables import DeltaTable\n",
    "\n",
    "# Write as a managed table\n",
    "old_df.write.format(\"delta\").mode(\"overwrite\").saveAsTable(\"dim_customers_type1\")\n",
    "\n",
    "# Read it as DeltaTable\n",
    "dim_customers = DeltaTable.forName(spark, \"dim_customers_type1\")"
   ]
  },
  {
   "cell_type": "code",
   "execution_count": 0,
   "metadata": {
    "application/vnd.databricks.v1+cell": {
     "cellMetadata": {
      "byteLimit": 2048000,
      "rowLimit": 10000
     },
     "inputWidgets": {},
     "nuid": "afb43dbb-efa3-4136-b8c7-a6d81450a042",
     "showTitle": false,
     "tableResultSettingsMap": {},
     "title": ""
    }
   },
   "outputs": [],
   "source": [
    "#Merge for SCD Type 1\n",
    "dim_customers.alias(\"target\").merge(\n",
    "new_df.alias(\"source\"),\n",
    "\"target.customer_id = source.customer_id\"\n",
    ").whenMatchedUpdateAll() \\\n",
    ".whenNotMatchedInsertAll() \\\n",
    ".execute()"
   ]
  },
  {
   "cell_type": "markdown",
   "metadata": {
    "application/vnd.databricks.v1+cell": {
     "cellMetadata": {
      "byteLimit": 2048000,
      "rowLimit": 10000
     },
     "inputWidgets": {},
     "nuid": "0fe4cf8b-dc7f-47bb-99d8-ef656b59be2c",
     "showTitle": false,
     "tableResultSettingsMap": {},
     "title": ""
    }
   },
   "source": [
    "## SCD TYPE-2: Keep History"
   ]
  },
  {
   "cell_type": "code",
   "execution_count": 0,
   "metadata": {
    "application/vnd.databricks.v1+cell": {
     "cellMetadata": {
      "byteLimit": 2048000,
      "rowLimit": 10000
     },
     "inputWidgets": {},
     "nuid": "29b2c1dc-ed76-4521-9f0e-07b4b7e04654",
     "showTitle": false,
     "tableResultSettingsMap": {},
     "title": ""
    }
   },
   "outputs": [],
   "source": [
    "#  SCD TYPE-2: Keep History\n",
    "from pyspark.sql.functions import lit, current_date\n",
    "\n",
    "df_new_scd2 = new_df.withColumn(\"is_active\", lit(True)) \\\n",
    ".withColumn(\"start_date\", current_date()) \\\n",
    ".withColumn(\"end_date\", lit(None).cast(\"date\"))"
   ]
  },
  {
   "cell_type": "code",
   "execution_count": 0,
   "metadata": {
    "application/vnd.databricks.v1+cell": {
     "cellMetadata": {
      "byteLimit": 2048000,
      "rowLimit": 10000
     },
     "inputWidgets": {},
     "nuid": "3c533f3f-8ef1-4044-9cda-31f2c3902f3c",
     "showTitle": false,
     "tableResultSettingsMap": {},
     "title": ""
    }
   },
   "outputs": [],
   "source": [
    "#adding audit filed to old result\n",
    "old_df_scd2 = old_df.withColumn(\"is_active\", lit(True)) \\\n",
    ".withColumn(\"start_date\", lit(\"2024-01-01\").cast(\"date\")) \\\n",
    ".withColumn(\"end_date\", lit(None).cast(\"date\"))"
   ]
  },
  {
   "cell_type": "code",
   "execution_count": 0,
   "metadata": {
    "application/vnd.databricks.v1+cell": {
     "cellMetadata": {
      "byteLimit": 2048000,
      "rowLimit": 10000
     },
     "inputWidgets": {},
     "nuid": "299d4883-cf7b-46b8-b69d-b0973fcf5bde",
     "showTitle": false,
     "tableResultSettingsMap": {},
     "title": ""
    }
   },
   "outputs": [],
   "source": [
    "#adding audit filed to new\n",
    "new_df_scd2 = new_df.withColumn(\"is_active\", lit(True)) \\\n",
    ".withColumn(\"start_date\", lit(\"2024-01-01\").cast(\"date\")) \\\n",
    ".withColumn(\"end_date\", lit(None).cast(\"date\"))"
   ]
  },
  {
   "cell_type": "code",
   "execution_count": 0,
   "metadata": {
    "application/vnd.databricks.v1+cell": {
     "cellMetadata": {
      "byteLimit": 2048000,
      "rowLimit": 10000
     },
     "inputWidgets": {},
     "nuid": "fdfe2485-c9b6-4366-8d4a-e40437cbddf9",
     "showTitle": false,
     "tableResultSettingsMap": {},
     "title": ""
    }
   },
   "outputs": [],
   "source": [
    "display(new_df_scd2)"
   ]
  },
  {
   "cell_type": "code",
   "execution_count": 0,
   "metadata": {
    "application/vnd.databricks.v1+cell": {
     "cellMetadata": {
      "byteLimit": 2048000,
      "rowLimit": 10000
     },
     "inputWidgets": {},
     "nuid": "a20e2918-8f67-47fa-8f62-53194b877a11",
     "showTitle": false,
     "tableResultSettingsMap": {},
     "title": ""
    }
   },
   "outputs": [],
   "source": [
    "# Expire changes records\n",
    "from pyspark.sql.functions import lit, current_date\n",
    "\n",
    "df_expired = (\n",
    "    old_df_scd2.alias(\"old\")\n",
    "    .join(new_df.alias(\"new\"), \"customer_id\")\n",
    "    .filter(\"old.city != new.city\")                # compare old vs new\n",
    "    .select(\"old.customer_id\", \"old.name\", \"old.city\")\n",
    "    .withColumn(\"is_active\", lit(False))           # mark old record inactive\n",
    "    .withColumn(\"start_date\", lit(\"2024-01-01\").cast(\"date\"))  # start date cast to date\n",
    "    .withColumn(\"end_date\", current_date())        # end date = today\n",
    ")\n",
    "\n",
    "display(df_expired)\n"
   ]
  },
  {
   "cell_type": "code",
   "execution_count": 0,
   "metadata": {
    "application/vnd.databricks.v1+cell": {
     "cellMetadata": {
      "byteLimit": 2048000,
      "rowLimit": 10000
     },
     "inputWidgets": {},
     "nuid": "67f7d343-10ee-40a0-8db5-ff512a5debcc",
     "showTitle": false,
     "tableResultSettingsMap": {},
     "title": ""
    }
   },
   "outputs": [],
   "source": [
    "#unchanged records\n",
    "df_unchanged = old_df_scd2.alias(\"old\").join(new_df.alias(\"new\"), \"customer_id\") \\\n",
    ".filter(\"old.city == new.city\")\n",
    "display(df_unchanged)"
   ]
  },
  {
   "cell_type": "code",
   "execution_count": 0,
   "metadata": {
    "application/vnd.databricks.v1+cell": {
     "cellMetadata": {
      "byteLimit": 2048000,
      "rowLimit": 10000
     },
     "inputWidgets": {},
     "nuid": "bb04ca6b-37d1-4497-8c33-ef715ebb7bbc",
     "showTitle": false,
     "tableResultSettingsMap": {},
     "title": ""
    }
   },
   "outputs": [],
   "source": [
    "#New record entry\n",
    "\n",
    "df_new_only = new_df.alias(\"new\").join(old_df.alias(\"old\"), \"customer_id\", \"leftanti\") \\\n",
    ".withColumn(\"is_active\", lit(True)) \\\n",
    ".withColumn(\"start_date\", current_date()) \\\n",
    ".withColumn(\"end_date\", lit(None).cast(\"date\"))\n",
    "\n",
    "display(df_new_only)"
   ]
  },
  {
   "cell_type": "markdown",
   "metadata": {
    "application/vnd.databricks.v1+cell": {
     "cellMetadata": {},
     "inputWidgets": {},
     "nuid": "0d21e168-710d-43d7-b70b-85648224081d",
     "showTitle": false,
     "tableResultSettingsMap": {},
     "title": ""
    }
   },
   "source": []
  },
  {
   "cell_type": "markdown",
   "metadata": {
    "application/vnd.databricks.v1+cell": {
     "cellMetadata": {},
     "inputWidgets": {},
     "nuid": "1b6793ef-2131-4a93-8c2a-41c52fab49a1",
     "showTitle": false,
     "tableResultSettingsMap": {},
     "title": ""
    }
   },
   "source": [
    "## Databricks SQL Implementation"
   ]
  },
  {
   "cell_type": "code",
   "execution_count": 0,
   "metadata": {
    "application/vnd.databricks.v1+cell": {
     "cellMetadata": {
      "byteLimit": 2048000,
      "implicitDf": true,
      "rowLimit": 10000
     },
     "inputWidgets": {},
     "nuid": "d05ae4e3-b879-4f78-b86b-c3acda239954",
     "showTitle": false,
     "tableResultSettingsMap": {},
     "title": ""
    }
   },
   "outputs": [],
   "source": [
    "%sql\n",
    "-- STEP 1: CREATE DIMENSION TABLE\n",
    "CREATE OR REPLACE TABLE dim_customers(\n",
    "  customer_id INT,\n",
    "  name STRING,\n",
    "  city STRING\n",
    ") USING DELTA;\n",
    "\n",
    "INSERT INTO dim_customers VALUES\n",
    "(101, 'Ankur', 'Pune'),\n",
    "(102, 'Shiv', 'Banglore')"
   ]
  },
  {
   "cell_type": "code",
   "execution_count": 0,
   "metadata": {
    "application/vnd.databricks.v1+cell": {
     "cellMetadata": {
      "byteLimit": 2048000,
      "implicitDf": true,
      "rowLimit": 10000
     },
     "inputWidgets": {},
     "nuid": "f922f676-5e7f-4ebd-9d7b-74329775a441",
     "showTitle": false,
     "tableResultSettingsMap": {},
     "title": ""
    }
   },
   "outputs": [],
   "source": [
    "%sql\n",
    "-- STEP 2: CREATE STAGING VIEW\n",
    "CREATE OR REPLACE TEMP VIEW staging_customers AS SELECT * FROM VALUES\n",
    "(101, 'Ankur', 'Pune'),\n",
    "(102, 'Shiv', 'Banglore'),\n",
    "(103, 'Ravi', 'Delhi')\n",
    "AS t(customer_id, name, city);"
   ]
  },
  {
   "cell_type": "code",
   "execution_count": 0,
   "metadata": {
    "application/vnd.databricks.v1+cell": {
     "cellMetadata": {
      "byteLimit": 2048000,
      "implicitDf": true,
      "rowLimit": 10000
     },
     "inputWidgets": {},
     "nuid": "fb4306e5-c824-4f21-ab91-72e2ed77e643",
     "showTitle": false,
     "tableResultSettingsMap": {},
     "title": ""
    }
   },
   "outputs": [],
   "source": [
    "%sql\n",
    "select * from staging_customers"
   ]
  },
  {
   "cell_type": "markdown",
   "metadata": {
    "application/vnd.databricks.v1+cell": {
     "cellMetadata": {},
     "inputWidgets": {},
     "nuid": "905efbe8-1c71-4cf4-a2d8-3c779bb6d15d",
     "showTitle": false,
     "tableResultSettingsMap": {},
     "title": ""
    }
   },
   "source": [
    "##SCD TYPE 1"
   ]
  },
  {
   "cell_type": "code",
   "execution_count": 0,
   "metadata": {
    "application/vnd.databricks.v1+cell": {
     "cellMetadata": {
      "byteLimit": 2048000,
      "implicitDf": true,
      "rowLimit": 10000
     },
     "inputWidgets": {},
     "nuid": "586209cb-4174-4f5b-9865-f2ebb9065ed1",
     "showTitle": false,
     "tableResultSettingsMap": {},
     "title": ""
    }
   },
   "outputs": [],
   "source": [
    "%sql\n",
    "--MERGE INTO CMND IS USE TO MAKE SURE DUPLICATE VALUES ARE NOT THERE\n",
    "\n",
    "MERGE INTO dim_customers AS target\n",
    "USING staging_customers AS source\n",
    "ON target.customer_id = source.customer_id\n",
    "WHEN MATCHED THEN UPDATE SET *\n",
    "WHEN NOT MATCHED THEN INSERT *;"
   ]
  },
  {
   "cell_type": "code",
   "execution_count": 0,
   "metadata": {
    "application/vnd.databricks.v1+cell": {
     "cellMetadata": {
      "byteLimit": 2048000,
      "implicitDf": true,
      "rowLimit": 10000
     },
     "inputWidgets": {},
     "nuid": "bbc8112f-81fc-407a-b686-2279a0d7d982",
     "showTitle": false,
     "tableResultSettingsMap": {},
     "title": ""
    }
   },
   "outputs": [],
   "source": [
    "%sql\n",
    "SELECT * FROM dim_customers"
   ]
  },
  {
   "cell_type": "markdown",
   "metadata": {
    "application/vnd.databricks.v1+cell": {
     "cellMetadata": {},
     "inputWidgets": {},
     "nuid": "5a244ce9-442b-41b2-a00c-c18c863ec93b",
     "showTitle": false,
     "tableResultSettingsMap": {},
     "title": ""
    }
   },
   "source": [
    "##SCD TYPE 2"
   ]
  },
  {
   "cell_type": "code",
   "execution_count": 0,
   "metadata": {
    "application/vnd.databricks.v1+cell": {
     "cellMetadata": {
      "byteLimit": 2048000,
      "implicitDf": true,
      "rowLimit": 10000
     },
     "inputWidgets": {},
     "nuid": "c7023e7a-f3f3-42c9-b1ac-573a55964d9e",
     "showTitle": false,
     "tableResultSettingsMap": {},
     "title": ""
    }
   },
   "outputs": [],
   "source": [
    " %sql\n",
    " -- STEP 1 CREATE AUDIT field\n",
    " CREATE OR REPLACE TABLE dim_customers(\n",
    "  customer_id INT,\n",
    "  name STRING,\n",
    "  city STRING,\n",
    "  is_active BOOLEAN,\n",
    "  start_date DATE,\n",
    "  end_date DATE\n",
    " ) USING DELTA;"
   ]
  },
  {
   "cell_type": "code",
   "execution_count": 0,
   "metadata": {
    "application/vnd.databricks.v1+cell": {
     "cellMetadata": {
      "byteLimit": 2048000,
      "implicitDf": true,
      "rowLimit": 10000
     },
     "inputWidgets": {},
     "nuid": "b9136f66-2785-4860-8c76-e2a90c250916",
     "showTitle": false,
     "tableResultSettingsMap": {},
     "title": ""
    }
   },
   "outputs": [],
   "source": [
    "%sql\n",
    " INSERT INTO dim_customers VALUES\n",
    " (101, 'Ankur', 'Pune', true, DATE('2024-01-01'), NULL),\n",
    " (102, 'stuti', 'Mumbai', true, DATE('2024-01-01'), NULL);"
   ]
  },
  {
   "cell_type": "code",
   "execution_count": 0,
   "metadata": {
    "application/vnd.databricks.v1+cell": {
     "cellMetadata": {
      "byteLimit": 2048000,
      "implicitDf": true,
      "rowLimit": 10000
     },
     "inputWidgets": {},
     "nuid": "6efb1a74-b5b7-4f19-ac9d-1dc06d1e2e3d",
     "showTitle": false,
     "tableResultSettingsMap": {},
     "title": ""
    }
   },
   "outputs": [],
   "source": [
    "%sql\n",
    "select * from dim_customers"
   ]
  },
  {
   "cell_type": "code",
   "execution_count": 0,
   "metadata": {
    "application/vnd.databricks.v1+cell": {
     "cellMetadata": {
      "byteLimit": 2048000,
      "implicitDf": true,
      "rowLimit": 10000
     },
     "inputWidgets": {},
     "nuid": "103335dd-403c-490b-a2ca-192849514206",
     "showTitle": false,
     "tableResultSettingsMap": {},
     "title": ""
    }
   },
   "outputs": [],
   "source": [
    "%sql\n",
    "-- STEP 2: EXPIRE OLD\n",
    "UPDATE dim_customers\n",
    "SET is_active = false,\n",
    "end_date = current_date()\n",
    "WHERE customer_id IN(\n",
    "  SELECT s.customer_id FROM staging_customers s JOIN dim_customers d\n",
    "  ON s.customer_id = d.customer_id\n",
    "  WHERE s.city != d.city AND d.is_active = true\n",
    ");"
   ]
  },
  {
   "cell_type": "code",
   "execution_count": 0,
   "metadata": {
    "application/vnd.databricks.v1+cell": {
     "cellMetadata": {
      "byteLimit": 2048000,
      "implicitDf": true,
      "rowLimit": 10000
     },
     "inputWidgets": {},
     "nuid": "bcde9305-e77b-42b2-ba24-cac2ea8840e7",
     "showTitle": false,
     "tableResultSettingsMap": {},
     "title": ""
    }
   },
   "outputs": [],
   "source": [
    "%sql\n",
    "select * from dim_customers"
   ]
  },
  {
   "cell_type": "code",
   "execution_count": 0,
   "metadata": {
    "application/vnd.databricks.v1+cell": {
     "cellMetadata": {
      "byteLimit": 2048000,
      "implicitDf": true,
      "rowLimit": 10000
     },
     "inputWidgets": {},
     "nuid": "fdebf75a-46fa-4dd9-b301-8bf91e036bfe",
     "showTitle": false,
     "tableResultSettingsMap": {},
     "title": ""
    }
   },
   "outputs": [],
   "source": [
    "%sql\n",
    "-- STEP3: INSERT NEW\n",
    "INSERT INTO dim_customers\n",
    "SELECT s.customer_id , s.name, s.city,\n",
    "true, current_date(), null\n",
    "FROM staging_customers s\n",
    "LEFT JOIN dim_customers d\n",
    "ON s.customer_id = d.customer_id AND d.is_active = true\n",
    "WHERE d.city IS NULL OR s.city != d.city;"
   ]
  },
  {
   "cell_type": "code",
   "execution_count": 0,
   "metadata": {
    "application/vnd.databricks.v1+cell": {
     "cellMetadata": {
      "byteLimit": 2048000,
      "implicitDf": true,
      "rowLimit": 10000
     },
     "inputWidgets": {},
     "nuid": "770c8fbd-3ddf-490d-a1de-6a6eee9fc0d7",
     "showTitle": false,
     "tableResultSettingsMap": {},
     "title": ""
    }
   },
   "outputs": [],
   "source": [
    "%sql\n",
    "select * from dim_customers"
   ]
  }
 ],
 "metadata": {
  "application/vnd.databricks.v1+notebook": {
   "computePreferences": null,
   "dashboards": [],
   "environmentMetadata": {
    "base_environment": "",
    "environment_version": "3"
   },
   "inputWidgetPreferences": null,
   "language": "python",
   "notebookMetadata": {
    "mostRecentlyExecutedCommandWithImplicitDF": {
     "commandId": 8832895480024845,
     "dataframes": [
      "_sqldf"
     ]
    },
    "pythonIndentUnit": 4
   },
   "notebookName": "SCD",
   "widgets": {}
  },
  "language_info": {
   "name": "python"
  }
 },
 "nbformat": 4,
 "nbformat_minor": 0
}
