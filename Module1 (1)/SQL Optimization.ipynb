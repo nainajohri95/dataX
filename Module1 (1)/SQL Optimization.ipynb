{
 "cells": [
  {
   "cell_type": "markdown",
   "metadata": {
    "application/vnd.databricks.v1+cell": {
     "cellMetadata": {},
     "inputWidgets": {},
     "nuid": "4a444b93-8827-43e0-ab2f-5ad796109635",
     "showTitle": false,
     "tableResultSettingsMap": {},
     "title": ""
    }
   },
   "source": [
    "## Query Optimisation"
   ]
  },
  {
   "cell_type": "markdown",
   "metadata": {
    "application/vnd.databricks.v1+cell": {
     "cellMetadata": {},
     "inputWidgets": {},
     "nuid": "e43f494d-ecc5-47c0-8c9f-69dd4f068076",
     "showTitle": false,
     "tableResultSettingsMap": {},
     "title": ""
    }
   },
   "source": [
    "## SELCT * vs SELECT needed columns"
   ]
  },
  {
   "cell_type": "code",
   "execution_count": 0,
   "metadata": {
    "application/vnd.databricks.v1+cell": {
     "cellMetadata": {
      "byteLimit": 2048000,
      "rowLimit": 10000
     },
     "inputWidgets": {},
     "nuid": "f5ab46a8-5104-42a2-a15a-cc455e5bc88c",
     "showTitle": false,
     "tableResultSettingsMap": {},
     "title": ""
    }
   },
   "outputs": [],
   "source": [
    "select *\n",
    "from customers c\n",
    "join orders o on c.customer_id = o.cutomer_id\n",
    "join order_details od on o.order_id = od.order_id;"
   ]
  },
  {
   "cell_type": "code",
   "execution_count": 0,
   "metadata": {
    "application/vnd.databricks.v1+cell": {
     "cellMetadata": {
      "byteLimit": 2048000,
      "rowLimit": 10000
     },
     "inputWidgets": {},
     "nuid": "b6ef9bde-b237-45bc-9931-f61bf60c4d74",
     "showTitle": false,
     "tableResultSettingsMap": {},
     "title": ""
    }
   },
   "outputs": [],
   "source": [
    "-- selecting particular column insted of doing *\n",
    "select c.first_name, o.order_id, od.product_name, od.price_each\n",
    "from customers c\n",
    "join orders o on c.customer_id = o.cutomer_id\n",
    "join order_details od on o.order_id = od.order_id;"
   ]
  },
  {
   "cell_type": "markdown",
   "metadata": {
    "application/vnd.databricks.v1+cell": {
     "cellMetadata": {},
     "inputWidgets": {},
     "nuid": "1b53a20d-8e23-47a5-a821-87ed9f812a69",
     "showTitle": false,
     "tableResultSettingsMap": {},
     "title": ""
    }
   },
   "source": [
    "## 2. Filtering after JOIN vs Filtering before "
   ]
  },
  {
   "cell_type": "code",
   "execution_count": 0,
   "metadata": {
    "application/vnd.databricks.v1+cell": {
     "cellMetadata": {
      "byteLimit": 2048000,
      "rowLimit": 10000
     },
     "inputWidgets": {},
     "nuid": "cb9a6c7c-9139-4767-a263-f6f75bf8d0cf",
     "showTitle": false,
     "tableResultSettingsMap": {},
     "title": ""
    }
   },
   "outputs": [],
   "source": [
    "-- unoptimised\n",
    "-- filtering the data after join\n",
    "select c.first_name, o.order_id, od.product_name, od.price_each\n",
    "from customers c\n",
    "join orders o on c.customer_id = o.cutomer_id\n",
    "join order_details od on o.order_id = od.order_id\n",
    "order by od.price_each desc;\n"
   ]
  },
  {
   "cell_type": "code",
   "execution_count": 0,
   "metadata": {
    "application/vnd.databricks.v1+cell": {
     "cellMetadata": {
      "byteLimit": 2048000,
      "rowLimit": 10000
     },
     "inputWidgets": {},
     "nuid": "17b7b42b-b22c-475c-807f-cd1b74fbc541",
     "showTitle": false,
     "tableResultSettingsMap": {},
     "title": ""
    }
   },
   "outputs": [],
   "source": [
    "-- optimised\n",
    "select c.first_name, o.order_id, od.product_name, od.price_each\n",
    "from customers c\n",
    "join orders o on c.customer_id = o.cutomer_id\n",
    "join order_details od on o.order_id = od.order_id\n",
    "where od.price_each > 1000\n",
    "order by od.price_each desc;"
   ]
  },
  {
   "cell_type": "markdown",
   "metadata": {
    "application/vnd.databricks.v1+cell": {
     "cellMetadata": {},
     "inputWidgets": {},
     "nuid": "310c6cbf-5bb0-41f0-9531-82374d7c18d5",
     "showTitle": false,
     "tableResultSettingsMap": {},
     "title": ""
    }
   },
   "source": [
    "## 3. GROUP BY without filtering vs with early filtering"
   ]
  },
  {
   "cell_type": "code",
   "execution_count": 0,
   "metadata": {
    "application/vnd.databricks.v1+cell": {
     "cellMetadata": {
      "byteLimit": 2048000,
      "rowLimit": 10000
     },
     "inputWidgets": {},
     "nuid": "36bb3069-41a4-4975-b882-c36253455947",
     "showTitle": false,
     "tableResultSettingsMap": {},
     "title": ""
    }
   },
   "outputs": [],
   "source": [
    "-- Unoptimised\n",
    "select c.customer_id, sum(od.price_each*od.quantity) as total_spent\n",
    "from customers c\n",
    "join orders o on c.customer_id = o.cutomer_id\n",
    "join order_details od on o.order_id = od.order_id\n",
    "group by c.customer_id;"
   ]
  },
  {
   "cell_type": "code",
   "execution_count": 0,
   "metadata": {
    "application/vnd.databricks.v1+cell": {
     "cellMetadata": {
      "byteLimit": 2048000,
      "rowLimit": 10000
     },
     "inputWidgets": {},
     "nuid": "04174c9f-a963-41fa-8c2f-1b2d5e338cdd",
     "showTitle": false,
     "tableResultSettingsMap": {},
     "title": ""
    }
   },
   "outputs": [],
   "source": [
    "-- Optimised\n",
    "select c.customer_id, sum(od.price_each*od.quantity) as total_spent\n",
    "from customers c\n",
    "join orders o on c.customer_id = o.cutomer_id\n",
    "join order_details od on o.order_id = od.order_id\n",
    "where o.order_date >= '2023-01-01'\n",
    "group by c.customer_id;"
   ]
  },
  {
   "cell_type": "code",
   "execution_count": 0,
   "metadata": {
    "application/vnd.databricks.v1+cell": {
     "cellMetadata": {
      "byteLimit": 2048000,
      "rowLimit": 10000
     },
     "inputWidgets": {},
     "nuid": "925ddc1d-6380-4b71-88e9-379b9d0e0cfe",
     "showTitle": false,
     "tableResultSettingsMap": {},
     "title": ""
    }
   },
   "outputs": [],
   "source": [
    "-- EXPLAIN Statment gives us a proper plan\n",
    "explain\n",
    "select c.customer_id, sum(od.price_each*od.quantity) as total_spent\n",
    "from customers c\n",
    "join orders o on c.customer_id = o.cutomer_id\n",
    "join order_details od on o.order_id = od.order_id\n",
    "where o.order_date >= '2023-01-01'\n",
    "group by c.customer_id;"
   ]
  },
  {
   "cell_type": "markdown",
   "metadata": {
    "application/vnd.databricks.v1+cell": {
     "cellMetadata": {},
     "inputWidgets": {},
     "nuid": "34b413ff-5c51-4b61-a702-d2da6fbfe4d2",
     "showTitle": false,
     "tableResultSettingsMap": {},
     "title": ""
    }
   },
   "source": [
    "## 4. INDEX"
   ]
  },
  {
   "cell_type": "code",
   "execution_count": 0,
   "metadata": {
    "application/vnd.databricks.v1+cell": {
     "cellMetadata": {
      "byteLimit": 2048000,
      "rowLimit": 10000
     },
     "inputWidgets": {},
     "nuid": "32f240c3-8b52-4a76-bf71-73ff7b476929",
     "showTitle": false,
     "tableResultSettingsMap": {},
     "title": ""
    }
   },
   "outputs": [],
   "source": [
    "-- ADD index first(can't be done in databricks , do it on mysql)\n",
    "create index idx_price on order details(price_each);\n",
    "\n",
    "-- then run this\n",
    "select * \n",
    "from order_details\n",
    "where price_each > 10000;"
   ]
  },
  {
   "cell_type": "code",
   "execution_count": 0,
   "metadata": {
    "application/vnd.databricks.v1+cell": {
     "cellMetadata": {},
     "inputWidgets": {},
     "nuid": "e82cb1ad-6be7-42d6-8ffd-5f91c23916f5",
     "showTitle": false,
     "tableResultSettingsMap": {},
     "title": ""
    }
   },
   "outputs": [],
   "source": []
  }
 ],
 "metadata": {
  "application/vnd.databricks.v1+notebook": {
   "computePreferences": null,
   "dashboards": [],
   "environmentMetadata": {
    "base_environment": "",
    "environment_version": "2"
   },
   "inputWidgetPreferences": null,
   "language": "sql",
   "notebookMetadata": {},
   "notebookName": "SQL Optimization",
   "widgets": {}
  },
  "language_info": {
   "name": "sql"
  }
 },
 "nbformat": 4,
 "nbformat_minor": 0
}
