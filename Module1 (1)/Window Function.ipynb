{
 "cells": [
  {
   "cell_type": "markdown",
   "metadata": {
    "application/vnd.databricks.v1+cell": {
     "cellMetadata": {},
     "inputWidgets": {},
     "nuid": "562591e3-614c-4d9a-bb3c-a0e352a7aec4",
     "showTitle": false,
     "tableResultSettingsMap": {},
     "title": ""
    }
   },
   "source": [
    "##Window Function of SQL"
   ]
  },
  {
   "cell_type": "code",
   "execution_count": 0,
   "metadata": {
    "application/vnd.databricks.v1+cell": {
     "cellMetadata": {
      "byteLimit": 2048000,
      "rowLimit": 10000
     },
     "inputWidgets": {},
     "nuid": "8742e558-5875-4219-bc08-0f4eacd29952",
     "showTitle": false,
     "tableResultSettingsMap": {},
     "title": ""
    }
   },
   "outputs": [],
   "source": [
    "select * from orders;"
   ]
  },
  {
   "cell_type": "code",
   "execution_count": 0,
   "metadata": {
    "application/vnd.databricks.v1+cell": {
     "cellMetadata": {
      "byteLimit": 2048000,
      "rowLimit": 10000
     },
     "inputWidgets": {},
     "nuid": "ebc2a126-2fd6-4e5d-ba03-2e2b77ddada3",
     "showTitle": false,
     "tableResultSettingsMap": {},
     "title": ""
    }
   },
   "outputs": [],
   "source": [
    "-- Give each row a unique number based on the order_date.\n",
    "select order_id, order_date,\n",
    "row_number() over(order by order_date desc) as row_num\n",
    "from orders;\n",
    "\n",
    "-- if we do partition by order_id it means ki har unique order_id ke liye alag alag group banao to sare unique id start hoga 1 se to sari order_id ko 1 row_num milega.\n",
    "-- if want unique no. don't use this partition by"
   ]
  },
  {
   "cell_type": "code",
   "execution_count": 0,
   "metadata": {
    "application/vnd.databricks.v1+cell": {
     "cellMetadata": {
      "byteLimit": 2048000,
      "rowLimit": 10000
     },
     "inputWidgets": {},
     "nuid": "04caf657-8b84-4508-8f5a-9c7b149d24fb",
     "showTitle": false,
     "tableResultSettingsMap": {},
     "title": ""
    }
   },
   "outputs": [],
   "source": [
    "-- Real life use case:- show first product bought by each cutomer\n",
    "select c.first_name, od.product_name, od.order_id,\n",
    "row_number() over(partition by c.customer_id order by od.order_date) as purchase_sequence\n",
    "from customers c \n",
    "join orders o on c.customer_id=o.cutomer_id\n",
    "join order_details od on o.order_id=od.order_id;\n",
    "\n",
    "-- The 1st order is when purchase_sequence is 1\n"
   ]
  },
  {
   "cell_type": "code",
   "execution_count": 0,
   "metadata": {
    "application/vnd.databricks.v1+cell": {
     "cellMetadata": {
      "byteLimit": 2048000,
      "rowLimit": 10000
     },
     "inputWidgets": {},
     "nuid": "db71d1f5-be84-4912-b560-6585a97c31ea",
     "showTitle": false,
     "tableResultSettingsMap": {},
     "title": ""
    }
   },
   "outputs": [],
   "source": [
    "-- RANK()\n",
    "-- Here we ranked on the basis of product quantity\n",
    "select product_name, quantity,\n",
    "rank() over(order by quantity desc) as ranking\n",
    "from order_details;"
   ]
  },
  {
   "cell_type": "code",
   "execution_count": 0,
   "metadata": {
    "application/vnd.databricks.v1+cell": {
     "cellMetadata": {
      "byteLimit": 2048000,
      "rowLimit": 10000
     },
     "inputWidgets": {},
     "nuid": "af22617c-1eb7-45e7-be25-001490adf17e",
     "showTitle": false,
     "tableResultSettingsMap": {},
     "title": ""
    }
   },
   "outputs": [],
   "source": [
    "-- Real life use case:- assign bonus based on best- selling products in each order\n",
    "select order_id, product_name, quantity,\n",
    "rank() over(partition by order_id order by quantity desc) as ranking\n",
    "from order_details;"
   ]
  },
  {
   "cell_type": "code",
   "execution_count": 0,
   "metadata": {
    "application/vnd.databricks.v1+cell": {
     "cellMetadata": {},
     "inputWidgets": {},
     "nuid": "4efc93d2-a00a-4c9b-86fb-d0a3a9c85daf",
     "showTitle": false,
     "tableResultSettingsMap": {},
     "title": ""
    }
   },
   "outputs": [],
   "source": []
  }
 ],
 "metadata": {
  "application/vnd.databricks.v1+notebook": {
   "computePreferences": null,
   "dashboards": [],
   "environmentMetadata": {
    "base_environment": "",
    "environment_version": "2"
   },
   "inputWidgetPreferences": null,
   "language": "sql",
   "notebookMetadata": {
    "pythonIndentUnit": 4
   },
   "notebookName": "Window Function",
   "widgets": {}
  },
  "language_info": {
   "name": "sql"
  }
 },
 "nbformat": 4,
 "nbformat_minor": 0
}
