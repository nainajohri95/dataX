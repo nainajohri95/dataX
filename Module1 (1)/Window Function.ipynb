{
 "cells": [
  {
   "cell_type": "markdown",
   "metadata": {
    "application/vnd.databricks.v1+cell": {
     "cellMetadata": {},
     "inputWidgets": {},
     "nuid": "562591e3-614c-4d9a-bb3c-a0e352a7aec4",
     "showTitle": false,
     "tableResultSettingsMap": {},
     "title": ""
    }
   },
   "source": [
    "##Window Function of SQL"
   ]
  },
  {
   "cell_type": "code",
   "execution_count": 0,
   "metadata": {
    "application/vnd.databricks.v1+cell": {
     "cellMetadata": {
      "byteLimit": 2048000,
      "rowLimit": 10000
     },
     "inputWidgets": {},
     "nuid": "8742e558-5875-4219-bc08-0f4eacd29952",
     "showTitle": false,
     "tableResultSettingsMap": {},
     "title": ""
    }
   },
   "outputs": [],
   "source": [
    "select * from orders;"
   ]
  },
  {
   "cell_type": "code",
   "execution_count": 0,
   "metadata": {
    "application/vnd.databricks.v1+cell": {
     "cellMetadata": {
      "byteLimit": 2048000,
      "rowLimit": 10000
     },
     "inputWidgets": {},
     "nuid": "ebc2a126-2fd6-4e5d-ba03-2e2b77ddada3",
     "showTitle": false,
     "tableResultSettingsMap": {},
     "title": ""
    }
   },
   "outputs": [],
   "source": [
    "-- Give each row a unique number based on the order_date.\n",
    "select order_id, order_date,\n",
    "row_number() over(order by order_date desc) as row_num\n",
    "from orders;\n",
    "\n",
    "-- if we do partition by order_id it means ki har unique order_id ke liye alag alag group banao to sare unique id start hoga 1 se to sari order_id ko 1 row_num milega.\n",
    "-- if want unique no. don't use this partition by"
   ]
  },
  {
   "cell_type": "code",
   "execution_count": 0,
   "metadata": {
    "application/vnd.databricks.v1+cell": {
     "cellMetadata": {
      "byteLimit": 2048000,
      "rowLimit": 10000
     },
     "inputWidgets": {},
     "nuid": "04caf657-8b84-4508-8f5a-9c7b149d24fb",
     "showTitle": false,
     "tableResultSettingsMap": {},
     "title": ""
    }
   },
   "outputs": [],
   "source": [
    "-- Real life use case:- show first product bought by each cutomer\n",
    "select c.first_name, od.product_name, od.order_id,\n",
    "row_number() over(partition by c.customer_id order by od.order_date) as purchase_sequence\n",
    "from customers c \n",
    "join orders o on c.customer_id=o.cutomer_id\n",
    "join order_details od on o.order_id=od.order_id;\n",
    "\n",
    "-- The 1st order is when purchase_sequence is 1\n"
   ]
  },
  {
   "cell_type": "markdown",
   "metadata": {
    "application/vnd.databricks.v1+cell": {
     "cellMetadata": {},
     "inputWidgets": {},
     "nuid": "926e1ec7-eda3-424c-867b-538090d27ad4",
     "showTitle": false,
     "tableResultSettingsMap": {},
     "title": ""
    }
   },
   "source": [
    "## RANK()"
   ]
  },
  {
   "cell_type": "code",
   "execution_count": 0,
   "metadata": {
    "application/vnd.databricks.v1+cell": {
     "cellMetadata": {
      "byteLimit": 2048000,
      "rowLimit": 10000
     },
     "inputWidgets": {},
     "nuid": "db71d1f5-be84-4912-b560-6585a97c31ea",
     "showTitle": false,
     "tableResultSettingsMap": {},
     "title": ""
    }
   },
   "outputs": [],
   "source": [
    "-- Here we ranked on the basis of product quantity\n",
    "select product_name, quantity,\n",
    "rank() over(order by quantity desc) as ranking\n",
    "from order_details;"
   ]
  },
  {
   "cell_type": "code",
   "execution_count": 0,
   "metadata": {
    "application/vnd.databricks.v1+cell": {
     "cellMetadata": {
      "byteLimit": 2048000,
      "rowLimit": 10000
     },
     "inputWidgets": {},
     "nuid": "af22617c-1eb7-45e7-be25-001490adf17e",
     "showTitle": false,
     "tableResultSettingsMap": {},
     "title": ""
    }
   },
   "outputs": [],
   "source": [
    "-- Real life use case:- assign bonus based on best- selling products in each order\n",
    "select order_id, product_name, quantity,\n",
    "rank() over(partition by order_id order by quantity desc) as ranking\n",
    "from order_details;"
   ]
  },
  {
   "cell_type": "markdown",
   "metadata": {
    "application/vnd.databricks.v1+cell": {
     "cellMetadata": {},
     "inputWidgets": {},
     "nuid": "5da46cc6-847b-4ffa-b2d1-1649cb4548d1",
     "showTitle": false,
     "tableResultSettingsMap": {},
     "title": ""
    }
   },
   "source": [
    "## DENSE_RANK(): It ranks without gaps."
   ]
  },
  {
   "cell_type": "code",
   "execution_count": 0,
   "metadata": {
    "application/vnd.databricks.v1+cell": {
     "cellMetadata": {
      "byteLimit": 2048000,
      "rowLimit": 10000
     },
     "inputWidgets": {},
     "nuid": "4efc93d2-a00a-4c9b-86fb-d0a3a9c85daf",
     "showTitle": false,
     "tableResultSettingsMap": {},
     "title": ""
    }
   },
   "outputs": [],
   "source": [
    "select  product_name, quantity,\n",
    "rank() over(order by quantity desc) as ranking,\n",
    "dense_rank() over(order by quantity desc) as dense_ranking\n",
    "from order_details;"
   ]
  },
  {
   "cell_type": "code",
   "execution_count": 0,
   "metadata": {
    "application/vnd.databricks.v1+cell": {
     "cellMetadata": {
      "byteLimit": 2048000,
      "rowLimit": 10000
     },
     "inputWidgets": {},
     "nuid": "4bd19fb2-607a-4f28-98e4-7bb76465822e",
     "showTitle": false,
     "tableResultSettingsMap": {},
     "title": ""
    }
   },
   "outputs": [],
   "source": [
    "-- Real life use case- label product popularity tiers in clean rank buckets\n",
    "select product_name, sum(quantity) as total_quantity,\n",
    "dense_rank() over(order by sum(quantity) desc) as popularity_rank\n",
    "from order_details\n",
    "group by product_name;"
   ]
  },
  {
   "cell_type": "markdown",
   "metadata": {
    "application/vnd.databricks.v1+cell": {
     "cellMetadata": {},
     "inputWidgets": {},
     "nuid": "deab4237-3fba-44f9-b861-09fbf6a18f0d",
     "showTitle": false,
     "tableResultSettingsMap": {},
     "title": ""
    }
   },
   "source": [
    "## LAG()- Using this we can compare current value with previous data\n",
    "## "
   ]
  },
  {
   "cell_type": "code",
   "execution_count": 0,
   "metadata": {
    "application/vnd.databricks.v1+cell": {
     "cellMetadata": {
      "byteLimit": 2048000,
      "rowLimit": 10000
     },
     "inputWidgets": {},
     "nuid": "31672f64-0b9a-42be-8f1a-59840b88b9e8",
     "showTitle": false,
     "tableResultSettingsMap": {},
     "title": ""
    }
   },
   "outputs": [],
   "source": [
    "select order_id,order_date,\n",
    "lag(order_date) over(order by order_date) as previous_order_date\n",
    "from orders;"
   ]
  },
  {
   "cell_type": "code",
   "execution_count": 0,
   "metadata": {
    "application/vnd.databricks.v1+cell": {
     "cellMetadata": {
      "byteLimit": 2048000,
      "rowLimit": 10000
     },
     "inputWidgets": {},
     "nuid": "dda16a65-2839-4361-b5f6-6b0056d72ed9",
     "showTitle": false,
     "tableResultSettingsMap": {},
     "title": ""
    }
   },
   "outputs": [],
   "source": [
    "-- Real life use case: Analyze customer's order trends (are they buying more or less?)\n",
    "select c.first_name, o.order_id, od.quantity,\n",
    "lag(od.quantity) over(partition by c.customer_id order by o.order_date) as previous_quantity\n",
    "from customers c\n",
    "join orders o on c.customer_id = o.cutomer_id\n",
    "join order_details od on o.order_id = od.order_id;"
   ]
  },
  {
   "cell_type": "markdown",
   "metadata": {
    "application/vnd.databricks.v1+cell": {
     "cellMetadata": {},
     "inputWidgets": {},
     "nuid": "77a60741-6aa9-41ea-a0d2-2362c0ff040d",
     "showTitle": false,
     "tableResultSettingsMap": {},
     "title": ""
    }
   },
   "source": [
    "## LEAD()- Using this we can compare current value with next data"
   ]
  },
  {
   "cell_type": "code",
   "execution_count": 0,
   "metadata": {
    "application/vnd.databricks.v1+cell": {
     "cellMetadata": {
      "byteLimit": 2048000,
      "rowLimit": 10000
     },
     "inputWidgets": {},
     "nuid": "049f352d-d5d8-42d5-9f19-b9a7d83cbee3",
     "showTitle": false,
     "tableResultSettingsMap": {},
     "title": ""
    }
   },
   "outputs": [],
   "source": [
    "select order_id, order_date,\n",
    "lead(order_date) over(order by order_date) as next_date\n",
    "from orders;"
   ]
  },
  {
   "cell_type": "code",
   "execution_count": 0,
   "metadata": {
    "application/vnd.databricks.v1+cell": {
     "cellMetadata": {
      "byteLimit": 2048000,
      "rowLimit": 10000
     },
     "inputWidgets": {},
     "nuid": "3cb2aaf9-7968-4ddc-9da5-78c48d087729",
     "showTitle": false,
     "tableResultSettingsMap": {},
     "title": ""
    }
   },
   "outputs": [],
   "source": [
    "-- Real life use case:- Predict what customers might buy next\n",
    "select c.first_name, od.product_name,\n",
    "lead(od.product_name) over(partition by c.customer_id order by o.order_date) as possibility_of_buying_next\n",
    "from customers c  \n",
    "join orders o on c.customer_id=o.cutomer_id\n",
    "join order_details od on o.order_id=od.order_id;"
   ]
  },
  {
   "cell_type": "markdown",
   "metadata": {
    "application/vnd.databricks.v1+cell": {
     "cellMetadata": {},
     "inputWidgets": {},
     "nuid": "950bd6a4-cf43-4b77-972d-da160b129ada",
     "showTitle": false,
     "tableResultSettingsMap": {},
     "title": ""
    }
   },
   "source": [
    "## SUM():- Used to find Running Total or Cummulative Sum"
   ]
  },
  {
   "cell_type": "code",
   "execution_count": 0,
   "metadata": {
    "application/vnd.databricks.v1+cell": {
     "cellMetadata": {
      "byteLimit": 2048000,
      "rowLimit": 10000
     },
     "inputWidgets": {},
     "nuid": "b4959fe3-d291-4830-b6f7-080af7c977df",
     "showTitle": false,
     "tableResultSettingsMap": {},
     "title": ""
    }
   },
   "outputs": [],
   "source": [
    "select order_id, product_name, quantity,\n",
    "sum(quantity) over(order by order_id) as cummulative_sum\n",
    "from order_details;"
   ]
  },
  {
   "cell_type": "code",
   "execution_count": 0,
   "metadata": {
    "application/vnd.databricks.v1+cell": {
     "cellMetadata": {
      "byteLimit": 2048000,
      "rowLimit": 10000
     },
     "inputWidgets": {},
     "nuid": "b93e5cdc-a97c-48a0-824a-a69dfff04f42",
     "showTitle": false,
     "tableResultSettingsMap": {},
     "title": ""
    }
   },
   "outputs": [],
   "source": [
    "select first_name, department, salary,\n",
    "sum(salary) over(order by emp_id) as running_total\n",
    "from employees;"
   ]
  }
 ],
 "metadata": {
  "application/vnd.databricks.v1+notebook": {
   "computePreferences": null,
   "dashboards": [],
   "environmentMetadata": {
    "base_environment": "",
    "environment_version": "2"
   },
   "inputWidgetPreferences": null,
   "language": "sql",
   "notebookMetadata": {
    "pythonIndentUnit": 4
   },
   "notebookName": "Window Function",
   "widgets": {}
  },
  "language_info": {
   "name": "sql"
  }
 },
 "nbformat": 4,
 "nbformat_minor": 0
}
